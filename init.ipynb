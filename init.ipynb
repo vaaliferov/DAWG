{
 "cells": [
  {
   "cell_type": "code",
   "execution_count": 1,
   "id": "020ea61a-e226-48a9-a37d-3cd7aa94a073",
   "metadata": {},
   "outputs": [],
   "source": [
    "import pandas as pd\n",
    "from tqdm import tqdm\n",
    "\n",
    "from utils import lcs\n",
    "from utils import load_lines\n",
    "from utils import dump_lines\n",
    "from utils import load_pickle\n",
    "from utils import dump_pickle\n",
    "\n",
    "from score import get_score\n",
    "from parse import parse_dict\n",
    "from link import get_replaces"
   ]
  },
  {
   "cell_type": "code",
   "execution_count": null,
   "id": "74803c4a-74ce-4dcb-b81c-f83cc0922eac",
   "metadata": {},
   "outputs": [],
   "source": []
  },
  {
   "cell_type": "code",
   "execution_count": 2,
   "id": "ec8e4842-60bc-4981-91d0-b2fd82a11e8f",
   "metadata": {},
   "outputs": [],
   "source": [
    "from lxml import etree\n",
    "from parse import parse_lemma"
   ]
  },
  {
   "cell_type": "code",
   "execution_count": 24,
   "id": "523277be-9f98-49e2-8ad6-3cac309dd6dd",
   "metadata": {},
   "outputs": [],
   "source": [
    "def parse_token(elem):\n",
    "\n",
    "    l = elem.\\\n",
    "            getchildren()[0].\\\n",
    "            getchildren()[0].\\\n",
    "            getchildren()[0]\n",
    "\n",
    "    text = elem.attrib['text'].lower()\n",
    "    gs = [g.attrib['v'] for g in l.getchildren()]\n",
    "\n",
    "    return text, ','.join(gs)\n",
    "\n",
    "\n",
    "def parse_annot(path):\n",
    "\n",
    "    c = 0\n",
    "\n",
    "    words = dict()\n",
    "    forms = dict()\n",
    "    \n",
    "    items = etree.iterparse(path)\n",
    "\n",
    "    for ev, elem in items:\n",
    "        if elem.tag == 'token':\n",
    "            t = parse_token(elem)\n",
    "            elem.clear()\n",
    "\n",
    "            if t[0] not in forms:\n",
    "                forms[t[0]] = dict()\n",
    "\n",
    "            if t[1] not in forms[t[0]]:\n",
    "                forms[t[0]][t[1]] = 0\n",
    "\n",
    "            forms[t[0]][t[1]] += 1\n",
    "\n",
    "            '''\n",
    "            if t not in forms:\n",
    "                forms[t] = 0\n",
    "\n",
    "            forms[t] += 1\n",
    "            '''\n",
    "\n",
    "            key = t[0].replace('ё','е')\n",
    "\n",
    "            if key not in words:\n",
    "                words[key] = 0\n",
    "\n",
    "            words[key] += 1\n",
    "\n",
    "            # c += 1\n",
    "            # if c > 10: break\n",
    "\n",
    "    return {'words': words, 'forms': forms}\n",
    "\n",
    "data = parse_annot('data/annot.opcorpora.xml')"
   ]
  },
  {
   "cell_type": "code",
   "execution_count": 45,
   "id": "4db85729-e60a-4be3-bff2-da6fb0d25cdc",
   "metadata": {},
   "outputs": [
    {
     "data": {
      "text/plain": [
       "13"
      ]
     },
     "execution_count": 45,
     "metadata": {},
     "output_type": "execute_result"
    }
   ],
   "source": [
    "data['words']['валерия']"
   ]
  },
  {
   "cell_type": "code",
   "execution_count": 46,
   "id": "7b529cbe-7ba0-4ecc-825d-54d4ec056c8a",
   "metadata": {},
   "outputs": [
    {
     "data": {
      "text/plain": [
       "{'NOUN,anim,femn,Name,sing,nomn': 1,\n",
       " 'NOUN,anim,masc,Name,sing,gent': 7,\n",
       " 'NOUN,anim,masc,Name,sing,accs': 5}"
      ]
     },
     "execution_count": 46,
     "metadata": {},
     "output_type": "execute_result"
    }
   ],
   "source": [
    "data['forms']['валерия']"
   ]
  },
  {
   "cell_type": "code",
   "execution_count": 30,
   "id": "efe5e21f-0a04-48a6-a6fb-9a207916344f",
   "metadata": {},
   "outputs": [
    {
     "data": {
      "text/plain": [
       "31"
      ]
     },
     "execution_count": 30,
     "metadata": {},
     "output_type": "execute_result"
    }
   ],
   "source": [
    "data['words']['озера']"
   ]
  },
  {
   "cell_type": "code",
   "execution_count": 27,
   "id": "59100c1c-cb71-4878-a938-b5c510932324",
   "metadata": {},
   "outputs": [
    {
     "data": {
      "text/plain": [
       "{'NOUN,inan,neut,sing,gent': 28, 'NOUN,inan,neut,plur,accs': 1}"
      ]
     },
     "execution_count": 27,
     "metadata": {},
     "output_type": "execute_result"
    }
   ],
   "source": [
    "data['forms']['озера']"
   ]
  },
  {
   "cell_type": "code",
   "execution_count": 28,
   "id": "5cf23a52-2aac-4c4b-8233-1da71782ac3c",
   "metadata": {},
   "outputs": [
    {
     "data": {
      "text/plain": [
       "{'NOUN,inan,neut,plur,accs': 1, 'NOUN,inan,neut,plur,nomn': 1}"
      ]
     },
     "execution_count": 28,
     "metadata": {},
     "output_type": "execute_result"
    }
   ],
   "source": [
    "data['forms']['озёра']"
   ]
  },
  {
   "cell_type": "code",
   "execution_count": null,
   "id": "04f64ada-3555-4afd-8406-eafde04a8a09",
   "metadata": {},
   "outputs": [],
   "source": []
  },
  {
   "cell_type": "code",
   "execution_count": null,
   "id": "720b6308-6b07-48d8-9e2f-babd6aa0ee09",
   "metadata": {},
   "outputs": [],
   "source": []
  },
  {
   "cell_type": "code",
   "execution_count": 2,
   "id": "93a0b310-9491-4b2a-bae3-160cec17e251",
   "metadata": {},
   "outputs": [
    {
     "name": "stdout",
     "output_type": "stream",
     "text": [
      "CPU times: user 1min 26s, sys: 1.73 s, total: 1min 28s\n",
      "Wall time: 1min 29s\n"
     ]
    }
   ],
   "source": [
    "%time data, cols = parse_dict('data/dict.opcorpora.xml')"
   ]
  },
  {
   "cell_type": "code",
   "execution_count": 3,
   "id": "b236efd4-a07d-4f60-930c-dfae14fde26b",
   "metadata": {},
   "outputs": [
    {
     "name": "stderr",
     "output_type": "stream",
     "text": [
      "100%|████████████████████████████████████████████████████████████| 258650/258650 [32:51<00:00, 131.22it/s]\n",
      "100%|███████████████████████████████████████████████████████████| 66195/66195 [00:00<00:00, 465020.62it/s]"
     ]
    },
    {
     "name": "stdout",
     "output_type": "stream",
     "text": [
      "CPU times: user 32min 38s, sys: 12 s, total: 32min 50s\n",
      "Wall time: 32min 51s\n"
     ]
    },
    {
     "name": "stderr",
     "output_type": "stream",
     "text": [
      "\n"
     ]
    }
   ],
   "source": [
    "replaces = get_replaces(data['links'])\n",
    "dump_pickle(replaces, 'data/replaces.bin')"
   ]
  },
  {
   "cell_type": "code",
   "execution_count": 9,
   "id": "1c2df21f-9e47-4b82-bf5c-197ca3dcabde",
   "metadata": {},
   "outputs": [],
   "source": [
    "df = pd.DataFrame(data['lemmas'], columns=cols['lemmas'])"
   ]
  },
  {
   "cell_type": "code",
   "execution_count": 17,
   "id": "2716c1ee-bc9c-4e81-bb52-f4116c952a8c",
   "metadata": {},
   "outputs": [
    {
     "name": "stdout",
     "output_type": "stream",
     "text": [
      "CPU times: user 50.1 s, sys: 1.58 s, total: 51.7 s\n",
      "Wall time: 51.3 s\n"
     ]
    }
   ],
   "source": [
    "%%time\n",
    "df['tag'] = df['tag'] + ' @ ' + df['form']\n",
    "df['norm_score'] = df['tag'].apply(get_score)\n",
    "df['id'] = df['id'].map(replaces).fillna(df['id']).astype('uint32')\n",
    "df['norm_idx'] = df.groupby('id')['norm_score'].transform(lambda x: x.idxmax())"
   ]
  },
  {
   "cell_type": "code",
   "execution_count": 18,
   "id": "b18ffe7f-0555-4f03-98f4-f935af94ee07",
   "metadata": {},
   "outputs": [
    {
     "name": "stderr",
     "output_type": "stream",
     "text": [
      "100%|████████████████████████████████████████████████████████████| 183259/183259 [03:59<00:00, 765.23it/s]\n"
     ]
    }
   ],
   "source": [
    "def split(group):\n",
    "    \n",
    "    forms = group['word'].tolist()\n",
    "    stem = lcs(forms)\n",
    "    prefixes = [form[:form.index(stem)] for form in forms]\n",
    "    \n",
    "    suffixes = [\n",
    "        form[len(pref)+len(stem):]\n",
    "        for form, pref in zip(forms, prefixes)\n",
    "    ]\n",
    "\n",
    "    offsets = [len(pref) for pref in prefixes]\n",
    "    \n",
    "    group['prefix'] = prefixes\n",
    "    group['suffix'] = suffixes\n",
    "    \n",
    "    group['stem_offset'] = offsets\n",
    "    group['stem_length'] = len(stem)\n",
    "    \n",
    "    return group\n",
    "\n",
    "tqdm.pandas()\n",
    "df = df.groupby('id', group_keys=False).progress_apply(split)\n",
    "df = df.reset_index(drop=True)"
   ]
  },
  {
   "cell_type": "code",
   "execution_count": 19,
   "id": "b2e2af82-3efe-4a91-bdc2-385adb069490",
   "metadata": {},
   "outputs": [],
   "source": [
    "df['tag'] = df['tag'].astype('category')\n",
    "df['prefix'] = df['prefix'].astype('category')\n",
    "df['suffix'] = df['suffix'].astype('category')"
   ]
  },
  {
   "cell_type": "code",
   "execution_count": 20,
   "id": "c81180f5-b9b5-43b8-b0f7-88d8ab043698",
   "metadata": {},
   "outputs": [],
   "source": [
    "params = {\n",
    "    'right_index': True, \n",
    "    'left_on': 'norm_idx', \n",
    "    'suffixes': ('', '_norm')\n",
    "}\n",
    "cols = ['prefix', 'suffix', 'tag']\n",
    "df = pd.merge(df, df[cols], **params)"
   ]
  },
  {
   "cell_type": "code",
   "execution_count": 23,
   "id": "5f15a530-370d-4882-9fbe-fc9749d19aae",
   "metadata": {},
   "outputs": [],
   "source": [
    "def save_categories(series, path):\n",
    "    dump_lines(series.cat.categories.tolist(), path)\n",
    "\n",
    "save_categories(df['tag'], 'data/tags.txt')\n",
    "save_categories(df['prefix'], 'data/prefixes.txt')\n",
    "save_categories(df['suffix'], 'data/suffixes.txt')"
   ]
  },
  {
   "cell_type": "code",
   "execution_count": 22,
   "id": "39fd019e-099e-4c0a-bb91-618fce791226",
   "metadata": {},
   "outputs": [],
   "source": [
    "keys = df['word'].copy()\n",
    "\n",
    "keys += ',' + df['tag'].cat.codes.astype(str)\n",
    "keys += ',' + df['stem_offset'].astype(str)\n",
    "keys += ',' + df['stem_length'].astype(str)\n",
    "\n",
    "keys += ',' + df['tag_norm'].cat.codes.astype(str)\n",
    "keys += ',' + df['prefix_norm'].cat.codes.astype(str)\n",
    "keys += ',' + df['suffix_norm'].cat.codes.astype(str)"
   ]
  },
  {
   "cell_type": "code",
   "execution_count": 24,
   "id": "ce6df209-d28d-4583-bdd8-b66c2e498ea6",
   "metadata": {},
   "outputs": [],
   "source": [
    "params = {\n",
    "    'sep': ',',\n",
    "    'keys': keys.tolist(),\n",
    "    'replaces': {'е':'ё'}\n",
    "}\n",
    "\n",
    "dwg = dawg.DAWG(**params)\n",
    "dwg.save('data/words.dawg')"
   ]
  }
 ],
 "metadata": {
  "kernelspec": {
   "display_name": "dawg_env",
   "language": "python",
   "name": "dawg_env"
  },
  "language_info": {
   "codemirror_mode": {
    "name": "ipython",
    "version": 3
   },
   "file_extension": ".py",
   "mimetype": "text/x-python",
   "name": "python",
   "nbconvert_exporter": "python",
   "pygments_lexer": "ipython3",
   "version": "3.10.12"
  }
 },
 "nbformat": 4,
 "nbformat_minor": 5
}
