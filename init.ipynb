{
 "cells": [
  {
   "cell_type": "code",
   "execution_count": 44,
   "id": "020ea61a-e226-48a9-a37d-3cd7aa94a073",
   "metadata": {},
   "outputs": [],
   "source": [
    "import dawg\n",
    "\n",
    "import pandas as pd\n",
    "from tqdm import tqdm\n",
    "\n",
    "from utils import lcs\n",
    "from utils import load_lines\n",
    "from utils import dump_lines\n",
    "from utils import load_pickle\n",
    "from utils import dump_pickle\n",
    "\n",
    "from score import get_score\n",
    "from parse import parse_dict\n",
    "from parse import parse_annot\n",
    "from link import get_replaces"
   ]
  },
  {
   "cell_type": "code",
   "execution_count": 3,
   "id": "720b6308-6b07-48d8-9e2f-babd6aa0ee09",
   "metadata": {},
   "outputs": [
    {
     "name": "stdout",
     "output_type": "stream",
     "text": [
      "CPU times: user 48.2 s, sys: 2.3 s, total: 50.5 s\n",
      "Wall time: 50.9 s\n"
     ]
    }
   ],
   "source": [
    "%time counts = parse_annot('data/annot.opcorpora.xml')"
   ]
  },
  {
   "cell_type": "code",
   "execution_count": 4,
   "id": "93a0b310-9491-4b2a-bae3-160cec17e251",
   "metadata": {},
   "outputs": [
    {
     "name": "stdout",
     "output_type": "stream",
     "text": [
      "CPU times: user 1min 18s, sys: 1.37 s, total: 1min 19s\n",
      "Wall time: 1min 20s\n"
     ]
    }
   ],
   "source": [
    "%time data, cols = parse_dict('data/dict.opcorpora.xml')"
   ]
  },
  {
   "cell_type": "code",
   "execution_count": 3,
   "id": "b236efd4-a07d-4f60-930c-dfae14fde26b",
   "metadata": {},
   "outputs": [
    {
     "name": "stderr",
     "output_type": "stream",
     "text": [
      "100%|████████████████████████████████████████████████████████████| 258650/258650 [32:51<00:00, 131.22it/s]\n",
      "100%|███████████████████████████████████████████████████████████| 66195/66195 [00:00<00:00, 465020.62it/s]"
     ]
    },
    {
     "name": "stdout",
     "output_type": "stream",
     "text": [
      "CPU times: user 32min 38s, sys: 12 s, total: 32min 50s\n",
      "Wall time: 32min 51s\n"
     ]
    },
    {
     "name": "stderr",
     "output_type": "stream",
     "text": [
      "\n"
     ]
    }
   ],
   "source": [
    "replaces = get_replaces(data['links'])\n",
    "dump_pickle(replaces, 'data/replaces.bin')"
   ]
  },
  {
   "cell_type": "code",
   "execution_count": 21,
   "id": "609f32bb-8acd-4012-9e14-078121f252ca",
   "metadata": {},
   "outputs": [],
   "source": [
    "replaces = load_pickle('data/replaces.bin')"
   ]
  },
  {
   "cell_type": "code",
   "execution_count": 5,
   "id": "1c2df21f-9e47-4b82-bf5c-197ca3dcabde",
   "metadata": {},
   "outputs": [],
   "source": [
    "df = pd.DataFrame(data['lemmas'], columns=cols['lemmas'])"
   ]
  },
  {
   "cell_type": "code",
   "execution_count": 7,
   "id": "858b4ce6-e4b1-4e53-823b-8818bcb38dae",
   "metadata": {},
   "outputs": [],
   "source": [
    "df['cnt'] = df['id'].map(counts).fillna(0).astype(int)"
   ]
  },
  {
   "cell_type": "code",
   "execution_count": 8,
   "id": "eb5ca282-2158-448b-8f0f-eab0eb44315c",
   "metadata": {},
   "outputs": [
    {
     "data": {
      "text/plain": [
       "(873978, 4267289)"
      ]
     },
     "execution_count": 8,
     "metadata": {},
     "output_type": "execute_result"
    }
   ],
   "source": [
    "(df['cnt'] > 0).sum(), (df['cnt'] == 0).sum()"
   ]
  },
  {
   "cell_type": "code",
   "execution_count": 9,
   "id": "9b164421-1eac-4c20-b4b8-40b9825eceba",
   "metadata": {},
   "outputs": [
    {
     "data": {
      "text/html": [
       "<div>\n",
       "<style scoped>\n",
       "    .dataframe tbody tr th:only-of-type {\n",
       "        vertical-align: middle;\n",
       "    }\n",
       "\n",
       "    .dataframe tbody tr th {\n",
       "        vertical-align: top;\n",
       "    }\n",
       "\n",
       "    .dataframe thead th {\n",
       "        text-align: right;\n",
       "    }\n",
       "</style>\n",
       "<table border=\"1\" class=\"dataframe\">\n",
       "  <thead>\n",
       "    <tr style=\"text-align: right;\">\n",
       "      <th></th>\n",
       "      <th>id</th>\n",
       "      <th>tag</th>\n",
       "      <th>word</th>\n",
       "      <th>form</th>\n",
       "      <th>cnt</th>\n",
       "    </tr>\n",
       "  </thead>\n",
       "  <tbody>\n",
       "    <tr>\n",
       "      <th>605</th>\n",
       "      <td>51</td>\n",
       "      <td>CONJ</td>\n",
       "      <td>а</td>\n",
       "      <td></td>\n",
       "      <td>9643</td>\n",
       "    </tr>\n",
       "    <tr>\n",
       "      <th>606</th>\n",
       "      <td>52</td>\n",
       "      <td>INTJ</td>\n",
       "      <td>а</td>\n",
       "      <td></td>\n",
       "      <td>7893</td>\n",
       "    </tr>\n",
       "    <tr>\n",
       "      <th>607</th>\n",
       "      <td>53</td>\n",
       "      <td>PRCL</td>\n",
       "      <td>а</td>\n",
       "      <td></td>\n",
       "      <td>7892</td>\n",
       "    </tr>\n",
       "    <tr>\n",
       "      <th>5089493</th>\n",
       "      <td>390180</td>\n",
       "      <td>NOUN,anim,ms-f,Sgtm,Fixd,Abbr,Name,Init</td>\n",
       "      <td>а</td>\n",
       "      <td>sing,nomn</td>\n",
       "      <td>3642</td>\n",
       "    </tr>\n",
       "    <tr>\n",
       "      <th>5089494</th>\n",
       "      <td>390180</td>\n",
       "      <td>NOUN,anim,ms-f,Sgtm,Fixd,Abbr,Name,Init</td>\n",
       "      <td>а</td>\n",
       "      <td>sing,gent</td>\n",
       "      <td>3642</td>\n",
       "    </tr>\n",
       "    <tr>\n",
       "      <th>5089495</th>\n",
       "      <td>390180</td>\n",
       "      <td>NOUN,anim,ms-f,Sgtm,Fixd,Abbr,Name,Init</td>\n",
       "      <td>а</td>\n",
       "      <td>sing,datv</td>\n",
       "      <td>3642</td>\n",
       "    </tr>\n",
       "    <tr>\n",
       "      <th>5089496</th>\n",
       "      <td>390180</td>\n",
       "      <td>NOUN,anim,ms-f,Sgtm,Fixd,Abbr,Name,Init</td>\n",
       "      <td>а</td>\n",
       "      <td>sing,accs</td>\n",
       "      <td>3642</td>\n",
       "    </tr>\n",
       "    <tr>\n",
       "      <th>5089497</th>\n",
       "      <td>390180</td>\n",
       "      <td>NOUN,anim,ms-f,Sgtm,Fixd,Abbr,Name,Init</td>\n",
       "      <td>а</td>\n",
       "      <td>sing,ablt</td>\n",
       "      <td>3642</td>\n",
       "    </tr>\n",
       "    <tr>\n",
       "      <th>5089498</th>\n",
       "      <td>390180</td>\n",
       "      <td>NOUN,anim,ms-f,Sgtm,Fixd,Abbr,Name,Init</td>\n",
       "      <td>а</td>\n",
       "      <td>sing,loct</td>\n",
       "      <td>3642</td>\n",
       "    </tr>\n",
       "    <tr>\n",
       "      <th>5089499</th>\n",
       "      <td>390181</td>\n",
       "      <td>NOUN,anim,ms-f,Sgtm,Fixd,Abbr,Patr,Init</td>\n",
       "      <td>а</td>\n",
       "      <td>sing,nomn</td>\n",
       "      <td>3642</td>\n",
       "    </tr>\n",
       "    <tr>\n",
       "      <th>5089500</th>\n",
       "      <td>390181</td>\n",
       "      <td>NOUN,anim,ms-f,Sgtm,Fixd,Abbr,Patr,Init</td>\n",
       "      <td>а</td>\n",
       "      <td>sing,gent</td>\n",
       "      <td>3642</td>\n",
       "    </tr>\n",
       "    <tr>\n",
       "      <th>5089501</th>\n",
       "      <td>390181</td>\n",
       "      <td>NOUN,anim,ms-f,Sgtm,Fixd,Abbr,Patr,Init</td>\n",
       "      <td>а</td>\n",
       "      <td>sing,datv</td>\n",
       "      <td>3642</td>\n",
       "    </tr>\n",
       "    <tr>\n",
       "      <th>5089502</th>\n",
       "      <td>390181</td>\n",
       "      <td>NOUN,anim,ms-f,Sgtm,Fixd,Abbr,Patr,Init</td>\n",
       "      <td>а</td>\n",
       "      <td>sing,accs</td>\n",
       "      <td>3642</td>\n",
       "    </tr>\n",
       "    <tr>\n",
       "      <th>5089503</th>\n",
       "      <td>390181</td>\n",
       "      <td>NOUN,anim,ms-f,Sgtm,Fixd,Abbr,Patr,Init</td>\n",
       "      <td>а</td>\n",
       "      <td>sing,ablt</td>\n",
       "      <td>3642</td>\n",
       "    </tr>\n",
       "    <tr>\n",
       "      <th>5089504</th>\n",
       "      <td>390181</td>\n",
       "      <td>NOUN,anim,ms-f,Sgtm,Fixd,Abbr,Patr,Init</td>\n",
       "      <td>а</td>\n",
       "      <td>sing,loct</td>\n",
       "      <td>3642</td>\n",
       "    </tr>\n",
       "  </tbody>\n",
       "</table>\n",
       "</div>"
      ],
      "text/plain": [
       "             id                                      tag word       form   cnt\n",
       "605          51                                     CONJ    а             9643\n",
       "606          52                                     INTJ    а             7893\n",
       "607          53                                     PRCL    а             7892\n",
       "5089493  390180  NOUN,anim,ms-f,Sgtm,Fixd,Abbr,Name,Init    а  sing,nomn  3642\n",
       "5089494  390180  NOUN,anim,ms-f,Sgtm,Fixd,Abbr,Name,Init    а  sing,gent  3642\n",
       "5089495  390180  NOUN,anim,ms-f,Sgtm,Fixd,Abbr,Name,Init    а  sing,datv  3642\n",
       "5089496  390180  NOUN,anim,ms-f,Sgtm,Fixd,Abbr,Name,Init    а  sing,accs  3642\n",
       "5089497  390180  NOUN,anim,ms-f,Sgtm,Fixd,Abbr,Name,Init    а  sing,ablt  3642\n",
       "5089498  390180  NOUN,anim,ms-f,Sgtm,Fixd,Abbr,Name,Init    а  sing,loct  3642\n",
       "5089499  390181  NOUN,anim,ms-f,Sgtm,Fixd,Abbr,Patr,Init    а  sing,nomn  3642\n",
       "5089500  390181  NOUN,anim,ms-f,Sgtm,Fixd,Abbr,Patr,Init    а  sing,gent  3642\n",
       "5089501  390181  NOUN,anim,ms-f,Sgtm,Fixd,Abbr,Patr,Init    а  sing,datv  3642\n",
       "5089502  390181  NOUN,anim,ms-f,Sgtm,Fixd,Abbr,Patr,Init    а  sing,accs  3642\n",
       "5089503  390181  NOUN,anim,ms-f,Sgtm,Fixd,Abbr,Patr,Init    а  sing,ablt  3642\n",
       "5089504  390181  NOUN,anim,ms-f,Sgtm,Fixd,Abbr,Patr,Init    а  sing,loct  3642"
      ]
     },
     "execution_count": 9,
     "metadata": {},
     "output_type": "execute_result"
    }
   ],
   "source": [
    "df[df['word'] == 'а']"
   ]
  },
  {
   "cell_type": "code",
   "execution_count": 19,
   "id": "58e83f70-81e3-41c7-970a-6b6c4278db1b",
   "metadata": {},
   "outputs": [
    {
     "data": {
      "text/html": [
       "<div>\n",
       "<style scoped>\n",
       "    .dataframe tbody tr th:only-of-type {\n",
       "        vertical-align: middle;\n",
       "    }\n",
       "\n",
       "    .dataframe tbody tr th {\n",
       "        vertical-align: top;\n",
       "    }\n",
       "\n",
       "    .dataframe thead th {\n",
       "        text-align: right;\n",
       "    }\n",
       "</style>\n",
       "<table border=\"1\" class=\"dataframe\">\n",
       "  <thead>\n",
       "    <tr style=\"text-align: right;\">\n",
       "      <th></th>\n",
       "      <th>id</th>\n",
       "      <th>tag</th>\n",
       "      <th>word</th>\n",
       "      <th>form</th>\n",
       "      <th>cnt</th>\n",
       "    </tr>\n",
       "  </thead>\n",
       "  <tbody>\n",
       "    <tr>\n",
       "      <th>2734698</th>\n",
       "      <td>209868</td>\n",
       "      <td>VERB,perf,intr</td>\n",
       "      <td>осел</td>\n",
       "      <td>masc,sing,past,indc</td>\n",
       "      <td>5</td>\n",
       "    </tr>\n",
       "  </tbody>\n",
       "</table>\n",
       "</div>"
      ],
      "text/plain": [
       "             id             tag  word                 form  cnt\n",
       "2734698  209868  VERB,perf,intr  осел  masc,sing,past,indc    5"
      ]
     },
     "execution_count": 19,
     "metadata": {},
     "output_type": "execute_result"
    }
   ],
   "source": [
    "df[df['word'] == 'осел']"
   ]
  },
  {
   "cell_type": "code",
   "execution_count": 10,
   "id": "eb532193-2834-472a-b8dd-7a47e4e0543d",
   "metadata": {},
   "outputs": [
    {
     "data": {
      "text/html": [
       "<div>\n",
       "<style scoped>\n",
       "    .dataframe tbody tr th:only-of-type {\n",
       "        vertical-align: middle;\n",
       "    }\n",
       "\n",
       "    .dataframe tbody tr th {\n",
       "        vertical-align: top;\n",
       "    }\n",
       "\n",
       "    .dataframe thead th {\n",
       "        text-align: right;\n",
       "    }\n",
       "</style>\n",
       "<table border=\"1\" class=\"dataframe\">\n",
       "  <thead>\n",
       "    <tr style=\"text-align: right;\">\n",
       "      <th></th>\n",
       "      <th>id</th>\n",
       "      <th>tag</th>\n",
       "      <th>word</th>\n",
       "      <th>form</th>\n",
       "      <th>cnt</th>\n",
       "    </tr>\n",
       "  </thead>\n",
       "  <tbody>\n",
       "    <tr>\n",
       "      <th>2728608</th>\n",
       "      <td>209408</td>\n",
       "      <td>NOUN,anim,masc</td>\n",
       "      <td>осёл</td>\n",
       "      <td>sing,nomn</td>\n",
       "      <td>16</td>\n",
       "    </tr>\n",
       "  </tbody>\n",
       "</table>\n",
       "</div>"
      ],
      "text/plain": [
       "             id             tag  word       form  cnt\n",
       "2728608  209408  NOUN,anim,masc  осёл  sing,nomn   16"
      ]
     },
     "execution_count": 10,
     "metadata": {},
     "output_type": "execute_result"
    }
   ],
   "source": [
    "df[df['word'] == 'осёл']"
   ]
  },
  {
   "cell_type": "code",
   "execution_count": 20,
   "id": "fa5bb61b-2912-423f-96ec-39622df947dd",
   "metadata": {},
   "outputs": [
    {
     "data": {
      "text/html": [
       "<div>\n",
       "<style scoped>\n",
       "    .dataframe tbody tr th:only-of-type {\n",
       "        vertical-align: middle;\n",
       "    }\n",
       "\n",
       "    .dataframe tbody tr th {\n",
       "        vertical-align: top;\n",
       "    }\n",
       "\n",
       "    .dataframe thead th {\n",
       "        text-align: right;\n",
       "    }\n",
       "</style>\n",
       "<table border=\"1\" class=\"dataframe\">\n",
       "  <thead>\n",
       "    <tr style=\"text-align: right;\">\n",
       "      <th></th>\n",
       "      <th>id</th>\n",
       "      <th>tag</th>\n",
       "      <th>word</th>\n",
       "      <th>form</th>\n",
       "      <th>cnt</th>\n",
       "    </tr>\n",
       "  </thead>\n",
       "  <tbody>\n",
       "    <tr>\n",
       "      <th>2285339</th>\n",
       "      <td>179438</td>\n",
       "      <td>NOUN,inan,neut</td>\n",
       "      <td>небо</td>\n",
       "      <td>sing,nomn</td>\n",
       "      <td>304</td>\n",
       "    </tr>\n",
       "    <tr>\n",
       "      <th>2285342</th>\n",
       "      <td>179438</td>\n",
       "      <td>NOUN,inan,neut</td>\n",
       "      <td>небо</td>\n",
       "      <td>sing,accs</td>\n",
       "      <td>304</td>\n",
       "    </tr>\n",
       "  </tbody>\n",
       "</table>\n",
       "</div>"
      ],
      "text/plain": [
       "             id             tag  word       form  cnt\n",
       "2285339  179438  NOUN,inan,neut  небо  sing,nomn  304\n",
       "2285342  179438  NOUN,inan,neut  небо  sing,accs  304"
      ]
     },
     "execution_count": 20,
     "metadata": {},
     "output_type": "execute_result"
    }
   ],
   "source": [
    "df[df['word'] == 'небо']"
   ]
  },
  {
   "cell_type": "code",
   "execution_count": 11,
   "id": "a03d83b6-25a4-4294-9070-e1a4ccb6fe34",
   "metadata": {},
   "outputs": [
    {
     "data": {
      "text/html": [
       "<div>\n",
       "<style scoped>\n",
       "    .dataframe tbody tr th:only-of-type {\n",
       "        vertical-align: middle;\n",
       "    }\n",
       "\n",
       "    .dataframe tbody tr th {\n",
       "        vertical-align: top;\n",
       "    }\n",
       "\n",
       "    .dataframe thead th {\n",
       "        text-align: right;\n",
       "    }\n",
       "</style>\n",
       "<table border=\"1\" class=\"dataframe\">\n",
       "  <thead>\n",
       "    <tr style=\"text-align: right;\">\n",
       "      <th></th>\n",
       "      <th>id</th>\n",
       "      <th>tag</th>\n",
       "      <th>word</th>\n",
       "      <th>form</th>\n",
       "      <th>cnt</th>\n",
       "    </tr>\n",
       "  </thead>\n",
       "  <tbody>\n",
       "    <tr>\n",
       "      <th>5097726</th>\n",
       "      <td>390849</td>\n",
       "      <td>NOUN,inan,neut</td>\n",
       "      <td>нёбо</td>\n",
       "      <td>sing,nomn</td>\n",
       "      <td>190</td>\n",
       "    </tr>\n",
       "    <tr>\n",
       "      <th>5097729</th>\n",
       "      <td>390849</td>\n",
       "      <td>NOUN,inan,neut</td>\n",
       "      <td>нёбо</td>\n",
       "      <td>sing,accs</td>\n",
       "      <td>190</td>\n",
       "    </tr>\n",
       "  </tbody>\n",
       "</table>\n",
       "</div>"
      ],
      "text/plain": [
       "             id             tag  word       form  cnt\n",
       "5097726  390849  NOUN,inan,neut  нёбо  sing,nomn  190\n",
       "5097729  390849  NOUN,inan,neut  нёбо  sing,accs  190"
      ]
     },
     "execution_count": 11,
     "metadata": {},
     "output_type": "execute_result"
    }
   ],
   "source": [
    "df[df['word'] == 'нёбо']"
   ]
  },
  {
   "cell_type": "code",
   "execution_count": 12,
   "id": "78b15ca8-c73d-4657-944b-d302cbc988f8",
   "metadata": {},
   "outputs": [
    {
     "data": {
      "text/html": [
       "<div>\n",
       "<style scoped>\n",
       "    .dataframe tbody tr th:only-of-type {\n",
       "        vertical-align: middle;\n",
       "    }\n",
       "\n",
       "    .dataframe tbody tr th {\n",
       "        vertical-align: top;\n",
       "    }\n",
       "\n",
       "    .dataframe thead th {\n",
       "        text-align: right;\n",
       "    }\n",
       "</style>\n",
       "<table border=\"1\" class=\"dataframe\">\n",
       "  <thead>\n",
       "    <tr style=\"text-align: right;\">\n",
       "      <th></th>\n",
       "      <th>id</th>\n",
       "      <th>tag</th>\n",
       "      <th>word</th>\n",
       "      <th>form</th>\n",
       "      <th>cnt</th>\n",
       "    </tr>\n",
       "  </thead>\n",
       "  <tbody>\n",
       "    <tr>\n",
       "      <th>490950</th>\n",
       "      <td>41143</td>\n",
       "      <td>NOUN,inan,femn</td>\n",
       "      <td>вера</td>\n",
       "      <td>sing,nomn</td>\n",
       "      <td>181</td>\n",
       "    </tr>\n",
       "    <tr>\n",
       "      <th>490963</th>\n",
       "      <td>41144</td>\n",
       "      <td>NOUN,anim,femn,Name</td>\n",
       "      <td>вера</td>\n",
       "      <td>sing,nomn</td>\n",
       "      <td>55</td>\n",
       "    </tr>\n",
       "  </tbody>\n",
       "</table>\n",
       "</div>"
      ],
      "text/plain": [
       "           id                  tag  word       form  cnt\n",
       "490950  41143       NOUN,inan,femn  вера  sing,nomn  181\n",
       "490963  41144  NOUN,anim,femn,Name  вера  sing,nomn   55"
      ]
     },
     "execution_count": 12,
     "metadata": {},
     "output_type": "execute_result"
    }
   ],
   "source": [
    "df[df['word'] == 'вера']"
   ]
  },
  {
   "cell_type": "code",
   "execution_count": 13,
   "id": "3f00e6e0-8b48-4517-8fd9-a227144ec11a",
   "metadata": {},
   "outputs": [
    {
     "data": {
      "text/html": [
       "<div>\n",
       "<style scoped>\n",
       "    .dataframe tbody tr th:only-of-type {\n",
       "        vertical-align: middle;\n",
       "    }\n",
       "\n",
       "    .dataframe tbody tr th {\n",
       "        vertical-align: top;\n",
       "    }\n",
       "\n",
       "    .dataframe thead th {\n",
       "        text-align: right;\n",
       "    }\n",
       "</style>\n",
       "<table border=\"1\" class=\"dataframe\">\n",
       "  <thead>\n",
       "    <tr style=\"text-align: right;\">\n",
       "      <th></th>\n",
       "      <th>id</th>\n",
       "      <th>tag</th>\n",
       "      <th>word</th>\n",
       "      <th>form</th>\n",
       "      <th>cnt</th>\n",
       "    </tr>\n",
       "  </thead>\n",
       "  <tbody>\n",
       "    <tr>\n",
       "      <th>1917905</th>\n",
       "      <td>152019</td>\n",
       "      <td>NOUN,inan,femn</td>\n",
       "      <td>любовь</td>\n",
       "      <td>sing,nomn</td>\n",
       "      <td>460</td>\n",
       "    </tr>\n",
       "    <tr>\n",
       "      <th>1917908</th>\n",
       "      <td>152019</td>\n",
       "      <td>NOUN,inan,femn</td>\n",
       "      <td>любовь</td>\n",
       "      <td>sing,accs</td>\n",
       "      <td>460</td>\n",
       "    </tr>\n",
       "    <tr>\n",
       "      <th>1917926</th>\n",
       "      <td>152020</td>\n",
       "      <td>NOUN,anim,femn,Name</td>\n",
       "      <td>любовь</td>\n",
       "      <td>sing,nomn</td>\n",
       "      <td>174</td>\n",
       "    </tr>\n",
       "    <tr>\n",
       "      <th>1917929</th>\n",
       "      <td>152020</td>\n",
       "      <td>NOUN,anim,femn,Name</td>\n",
       "      <td>любовь</td>\n",
       "      <td>sing,accs</td>\n",
       "      <td>174</td>\n",
       "    </tr>\n",
       "  </tbody>\n",
       "</table>\n",
       "</div>"
      ],
      "text/plain": [
       "             id                  tag    word       form  cnt\n",
       "1917905  152019       NOUN,inan,femn  любовь  sing,nomn  460\n",
       "1917908  152019       NOUN,inan,femn  любовь  sing,accs  460\n",
       "1917926  152020  NOUN,anim,femn,Name  любовь  sing,nomn  174\n",
       "1917929  152020  NOUN,anim,femn,Name  любовь  sing,accs  174"
      ]
     },
     "execution_count": 13,
     "metadata": {},
     "output_type": "execute_result"
    }
   ],
   "source": [
    "df[df['word'] == 'любовь']"
   ]
  },
  {
   "cell_type": "code",
   "execution_count": 14,
   "id": "70392b71-02ee-40c2-8c97-7cc29532a170",
   "metadata": {},
   "outputs": [
    {
     "data": {
      "text/html": [
       "<div>\n",
       "<style scoped>\n",
       "    .dataframe tbody tr th:only-of-type {\n",
       "        vertical-align: middle;\n",
       "    }\n",
       "\n",
       "    .dataframe tbody tr th {\n",
       "        vertical-align: top;\n",
       "    }\n",
       "\n",
       "    .dataframe thead th {\n",
       "        text-align: right;\n",
       "    }\n",
       "</style>\n",
       "<table border=\"1\" class=\"dataframe\">\n",
       "  <thead>\n",
       "    <tr style=\"text-align: right;\">\n",
       "      <th></th>\n",
       "      <th>id</th>\n",
       "      <th>tag</th>\n",
       "      <th>word</th>\n",
       "      <th>form</th>\n",
       "      <th>cnt</th>\n",
       "    </tr>\n",
       "  </thead>\n",
       "  <tbody>\n",
       "    <tr>\n",
       "      <th>2658960</th>\n",
       "      <td>204182</td>\n",
       "      <td>NOUN,inan,neut</td>\n",
       "      <td>озера</td>\n",
       "      <td>sing,gent</td>\n",
       "      <td>110</td>\n",
       "    </tr>\n",
       "  </tbody>\n",
       "</table>\n",
       "</div>"
      ],
      "text/plain": [
       "             id             tag   word       form  cnt\n",
       "2658960  204182  NOUN,inan,neut  озера  sing,gent  110"
      ]
     },
     "execution_count": 14,
     "metadata": {},
     "output_type": "execute_result"
    }
   ],
   "source": [
    "df[df['word'] == 'озера']"
   ]
  },
  {
   "cell_type": "code",
   "execution_count": 15,
   "id": "42f7f1a9-6835-4f8d-9c52-53bb53dc04aa",
   "metadata": {},
   "outputs": [
    {
     "data": {
      "text/html": [
       "<div>\n",
       "<style scoped>\n",
       "    .dataframe tbody tr th:only-of-type {\n",
       "        vertical-align: middle;\n",
       "    }\n",
       "\n",
       "    .dataframe tbody tr th {\n",
       "        vertical-align: top;\n",
       "    }\n",
       "\n",
       "    .dataframe thead th {\n",
       "        text-align: right;\n",
       "    }\n",
       "</style>\n",
       "<table border=\"1\" class=\"dataframe\">\n",
       "  <thead>\n",
       "    <tr style=\"text-align: right;\">\n",
       "      <th></th>\n",
       "      <th>id</th>\n",
       "      <th>tag</th>\n",
       "      <th>word</th>\n",
       "      <th>form</th>\n",
       "      <th>cnt</th>\n",
       "    </tr>\n",
       "  </thead>\n",
       "  <tbody>\n",
       "    <tr>\n",
       "      <th>2658965</th>\n",
       "      <td>204182</td>\n",
       "      <td>NOUN,inan,neut</td>\n",
       "      <td>озёра</td>\n",
       "      <td>plur,nomn</td>\n",
       "      <td>110</td>\n",
       "    </tr>\n",
       "    <tr>\n",
       "      <th>2658968</th>\n",
       "      <td>204182</td>\n",
       "      <td>NOUN,inan,neut</td>\n",
       "      <td>озёра</td>\n",
       "      <td>plur,accs</td>\n",
       "      <td>110</td>\n",
       "    </tr>\n",
       "  </tbody>\n",
       "</table>\n",
       "</div>"
      ],
      "text/plain": [
       "             id             tag   word       form  cnt\n",
       "2658965  204182  NOUN,inan,neut  озёра  plur,nomn  110\n",
       "2658968  204182  NOUN,inan,neut  озёра  plur,accs  110"
      ]
     },
     "execution_count": 15,
     "metadata": {},
     "output_type": "execute_result"
    }
   ],
   "source": [
    "df[df['word'] == 'озёра']"
   ]
  },
  {
   "cell_type": "code",
   "execution_count": 16,
   "id": "ad73f0a2-4645-4ce7-a858-563493a4f531",
   "metadata": {},
   "outputs": [
    {
     "data": {
      "text/html": [
       "<div>\n",
       "<style scoped>\n",
       "    .dataframe tbody tr th:only-of-type {\n",
       "        vertical-align: middle;\n",
       "    }\n",
       "\n",
       "    .dataframe tbody tr th {\n",
       "        vertical-align: top;\n",
       "    }\n",
       "\n",
       "    .dataframe thead th {\n",
       "        text-align: right;\n",
       "    }\n",
       "</style>\n",
       "<table border=\"1\" class=\"dataframe\">\n",
       "  <thead>\n",
       "    <tr style=\"text-align: right;\">\n",
       "      <th></th>\n",
       "      <th>id</th>\n",
       "      <th>tag</th>\n",
       "      <th>word</th>\n",
       "      <th>form</th>\n",
       "      <th>cnt</th>\n",
       "    </tr>\n",
       "  </thead>\n",
       "  <tbody>\n",
       "    <tr>\n",
       "      <th>455226</th>\n",
       "      <td>38160</td>\n",
       "      <td>NOUN,anim,masc,Name</td>\n",
       "      <td>валерия</td>\n",
       "      <td>sing,gent</td>\n",
       "      <td>69</td>\n",
       "    </tr>\n",
       "    <tr>\n",
       "      <th>455228</th>\n",
       "      <td>38160</td>\n",
       "      <td>NOUN,anim,masc,Name</td>\n",
       "      <td>валерия</td>\n",
       "      <td>sing,accs</td>\n",
       "      <td>69</td>\n",
       "    </tr>\n",
       "    <tr>\n",
       "      <th>455419</th>\n",
       "      <td>38174</td>\n",
       "      <td>NOUN,anim,femn,Name</td>\n",
       "      <td>валерия</td>\n",
       "      <td>sing,nomn</td>\n",
       "      <td>31</td>\n",
       "    </tr>\n",
       "  </tbody>\n",
       "</table>\n",
       "</div>"
      ],
      "text/plain": [
       "           id                  tag     word       form  cnt\n",
       "455226  38160  NOUN,anim,masc,Name  валерия  sing,gent   69\n",
       "455228  38160  NOUN,anim,masc,Name  валерия  sing,accs   69\n",
       "455419  38174  NOUN,anim,femn,Name  валерия  sing,nomn   31"
      ]
     },
     "execution_count": 16,
     "metadata": {},
     "output_type": "execute_result"
    }
   ],
   "source": [
    "df[df['word'] == 'валерия']"
   ]
  },
  {
   "cell_type": "code",
   "execution_count": 17,
   "id": "6db8e863-4559-4211-ac85-ecd30a78bb27",
   "metadata": {},
   "outputs": [
    {
     "data": {
      "text/html": [
       "<div>\n",
       "<style scoped>\n",
       "    .dataframe tbody tr th:only-of-type {\n",
       "        vertical-align: middle;\n",
       "    }\n",
       "\n",
       "    .dataframe tbody tr th {\n",
       "        vertical-align: top;\n",
       "    }\n",
       "\n",
       "    .dataframe thead th {\n",
       "        text-align: right;\n",
       "    }\n",
       "</style>\n",
       "<table border=\"1\" class=\"dataframe\">\n",
       "  <thead>\n",
       "    <tr style=\"text-align: right;\">\n",
       "      <th></th>\n",
       "      <th>id</th>\n",
       "      <th>tag</th>\n",
       "      <th>word</th>\n",
       "      <th>form</th>\n",
       "      <th>cnt</th>\n",
       "    </tr>\n",
       "  </thead>\n",
       "  <tbody>\n",
       "    <tr>\n",
       "      <th>102225</th>\n",
       "      <td>8527</td>\n",
       "      <td>NOUN,anim,masc,Name</td>\n",
       "      <td>александра</td>\n",
       "      <td>sing,gent</td>\n",
       "      <td>561</td>\n",
       "    </tr>\n",
       "    <tr>\n",
       "      <th>102227</th>\n",
       "      <td>8527</td>\n",
       "      <td>NOUN,anim,masc,Name</td>\n",
       "      <td>александра</td>\n",
       "      <td>sing,accs</td>\n",
       "      <td>561</td>\n",
       "    </tr>\n",
       "    <tr>\n",
       "      <th>102260</th>\n",
       "      <td>8530</td>\n",
       "      <td>NOUN,anim,femn,Name</td>\n",
       "      <td>александра</td>\n",
       "      <td>sing,nomn</td>\n",
       "      <td>218</td>\n",
       "    </tr>\n",
       "  </tbody>\n",
       "</table>\n",
       "</div>"
      ],
      "text/plain": [
       "          id                  tag        word       form  cnt\n",
       "102225  8527  NOUN,anim,masc,Name  александра  sing,gent  561\n",
       "102227  8527  NOUN,anim,masc,Name  александра  sing,accs  561\n",
       "102260  8530  NOUN,anim,femn,Name  александра  sing,nomn  218"
      ]
     },
     "execution_count": 17,
     "metadata": {},
     "output_type": "execute_result"
    }
   ],
   "source": [
    "df[df['word'] == 'александра']"
   ]
  },
  {
   "cell_type": "code",
   "execution_count": 18,
   "id": "05c2d8e5-daa6-4617-8524-b422ec745ed1",
   "metadata": {},
   "outputs": [
    {
     "data": {
      "text/plain": [
       "467644"
      ]
     },
     "execution_count": 18,
     "metadata": {},
     "output_type": "execute_result"
    }
   ],
   "source": [
    "max(counts.values())"
   ]
  },
  {
   "cell_type": "code",
   "execution_count": null,
   "id": "eaea608f-d488-4781-b5db-2825b80c346c",
   "metadata": {},
   "outputs": [],
   "source": []
  },
  {
   "cell_type": "code",
   "execution_count": null,
   "id": "63facf56-4c44-4f1a-a237-ec5fe922283a",
   "metadata": {},
   "outputs": [],
   "source": []
  },
  {
   "cell_type": "code",
   "execution_count": 22,
   "id": "2716c1ee-bc9c-4e81-bb52-f4116c952a8c",
   "metadata": {},
   "outputs": [
    {
     "name": "stdout",
     "output_type": "stream",
     "text": [
      "CPU times: user 50.4 s, sys: 675 ms, total: 51 s\n",
      "Wall time: 51.5 s\n"
     ]
    }
   ],
   "source": [
    "%%time\n",
    "df['tag'] = df['tag'] + ' @ ' + df['form']\n",
    "df['norm_score'] = df['tag'].apply(get_score)\n",
    "df['id'] = df['id'].map(replaces).fillna(df['id']).astype('uint32')\n",
    "df['norm_idx'] = df.groupby('id')['norm_score'].transform(lambda x: x.idxmax())"
   ]
  },
  {
   "cell_type": "code",
   "execution_count": 23,
   "id": "b18ffe7f-0555-4f03-98f4-f935af94ee07",
   "metadata": {},
   "outputs": [
    {
     "name": "stderr",
     "output_type": "stream",
     "text": [
      "100%|█████████████████████████████████████████████████████████████████████████████████████████████████████████████████████████████████████████████████████████████| 183259/183259 [04:01<00:00, 760.38it/s]\n"
     ]
    }
   ],
   "source": [
    "def split(group):\n",
    "    \n",
    "    forms = group['word'].tolist()\n",
    "    stem = lcs(forms)\n",
    "    prefixes = [form[:form.index(stem)] for form in forms]\n",
    "    \n",
    "    suffixes = [\n",
    "        form[len(pref)+len(stem):]\n",
    "        for form, pref in zip(forms, prefixes)\n",
    "    ]\n",
    "\n",
    "    offsets = [len(pref) for pref in prefixes]\n",
    "    \n",
    "    group['prefix'] = prefixes\n",
    "    group['suffix'] = suffixes\n",
    "    \n",
    "    group['stem_offset'] = offsets\n",
    "    group['stem_length'] = len(stem)\n",
    "    \n",
    "    return group\n",
    "\n",
    "tqdm.pandas()\n",
    "df = df.groupby('id', group_keys=False).progress_apply(split)\n",
    "df = df.reset_index(drop=True)"
   ]
  },
  {
   "cell_type": "code",
   "execution_count": 24,
   "id": "b2e2af82-3efe-4a91-bdc2-385adb069490",
   "metadata": {},
   "outputs": [],
   "source": [
    "df['tag'] = df['tag'].astype('category')\n",
    "df['prefix'] = df['prefix'].astype('category')\n",
    "df['suffix'] = df['suffix'].astype('category')"
   ]
  },
  {
   "cell_type": "code",
   "execution_count": 25,
   "id": "c81180f5-b9b5-43b8-b0f7-88d8ab043698",
   "metadata": {},
   "outputs": [],
   "source": [
    "params = {\n",
    "    'right_index': True, \n",
    "    'left_on': 'norm_idx', \n",
    "    'suffixes': ('', '_norm')\n",
    "}\n",
    "cols = ['prefix', 'suffix', 'tag']\n",
    "df = pd.merge(df, df[cols], **params)"
   ]
  },
  {
   "cell_type": "code",
   "execution_count": 27,
   "id": "5f15a530-370d-4882-9fbe-fc9749d19aae",
   "metadata": {},
   "outputs": [],
   "source": [
    "def save_categories(series, path):\n",
    "    dump_lines(series.cat.categories.tolist(), path)\n",
    "\n",
    "save_categories(df['tag'], 'data/tags.txt')\n",
    "save_categories(df['prefix'], 'data/prefixes.txt')\n",
    "save_categories(df['suffix'], 'data/suffixes.txt')"
   ]
  },
  {
   "cell_type": "code",
   "execution_count": 28,
   "id": "39fd019e-099e-4c0a-bb91-618fce791226",
   "metadata": {},
   "outputs": [],
   "source": [
    "keys = df['word'].copy()\n",
    "\n",
    "keys += ',' + df['tag'].cat.codes.astype(str)\n",
    "keys += ',' + df['stem_offset'].astype(str)\n",
    "keys += ',' + df['stem_length'].astype(str)\n",
    "\n",
    "keys += ',' + df['tag_norm'].cat.codes.astype(str)\n",
    "keys += ',' + df['prefix_norm'].cat.codes.astype(str)\n",
    "keys += ',' + df['suffix_norm'].cat.codes.astype(str)\n",
    "\n",
    "keys += ',' + df['cnt'].astype(str)"
   ]
  },
  {
   "cell_type": "code",
   "execution_count": 42,
   "id": "ca85aae4-c31a-48d0-a6a7-cb50427025d3",
   "metadata": {},
   "outputs": [
    {
     "data": {
      "text/plain": [
       "'дельным,849,0,3,825,0,11638,12'"
      ]
     },
     "execution_count": 42,
     "metadata": {},
     "output_type": "execute_result"
    }
   ],
   "source": [
    "keys[999558]"
   ]
  },
  {
   "cell_type": "code",
   "execution_count": 45,
   "id": "ce6df209-d28d-4583-bdd8-b66c2e498ea6",
   "metadata": {},
   "outputs": [],
   "source": [
    "params = {\n",
    "    'sep': ',',\n",
    "    'keys': keys.tolist(),\n",
    "    'replaces': {'е':'ё'}\n",
    "}\n",
    "\n",
    "dwg = dawg.DAWG(**params)\n",
    "dwg.save('data/words.dawg')"
   ]
  }
 ],
 "metadata": {
  "kernelspec": {
   "display_name": "dawg_env",
   "language": "python",
   "name": "dawg_env"
  },
  "language_info": {
   "codemirror_mode": {
    "name": "ipython",
    "version": 3
   },
   "file_extension": ".py",
   "mimetype": "text/x-python",
   "name": "python",
   "nbconvert_exporter": "python",
   "pygments_lexer": "ipython3",
   "version": "3.10.12"
  }
 },
 "nbformat": 4,
 "nbformat_minor": 5
}
