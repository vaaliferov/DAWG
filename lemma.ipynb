{
 "cells": [
  {
   "cell_type": "code",
   "execution_count": 1,
   "id": "859c329a-3b50-4c09-96d1-14d6a728abef",
   "metadata": {},
   "outputs": [],
   "source": [
    "import dawg\n",
    "import pandas as pd\n",
    "from utils import load_lines"
   ]
  },
  {
   "cell_type": "code",
   "execution_count": 2,
   "id": "92fa2eb7-f7db-420a-9a1c-ce83b3c3a260",
   "metadata": {},
   "outputs": [],
   "source": [
    "class Morph:\n",
    "\n",
    "    def __init__(self, data_dir):\n",
    "\n",
    "        params = {\n",
    "            'sep': ',', \n",
    "            'replaces': {'е':'ё'},\n",
    "            'path': f'{data_dir}/words.dawg'\n",
    "        }\n",
    "        \n",
    "        self.dwg = dawg.DAWG(**params)\n",
    "        self.tags = load_lines(f'{data_dir}/tags.txt')\n",
    "        self.prefixes = load_lines(f'{data_dir}/prefixes.txt')\n",
    "        self.suffixes = load_lines(f'{data_dir}/suffixes.txt')\n",
    "\n",
    "    def parse(self, key):\n",
    "\n",
    "        values = key.split(',')\n",
    "    \n",
    "        word = values[0]\n",
    "        tag = self.tags[int(values[1])]\n",
    "        stem_offset = int(values[2])\n",
    "        stem_length = int(values[3])\n",
    "    \n",
    "        norm_tag = self.tags[int(values[4])]\n",
    "        norm_prefix = self.prefixes[int(values[5])]\n",
    "        norm_suffix = self.suffixes[int(values[6])]\n",
    "        cnt = int(values[7])\n",
    "    \n",
    "        stem = word[stem_offset:stem_offset+stem_length]\n",
    "        norm_word = norm_prefix + stem + norm_suffix\n",
    "    \n",
    "        return word, tag, norm_word, norm_tag, cnt\n",
    "\n",
    "    def search(self, word):\n",
    "        keys = self.dwg.similar_items(word)\n",
    "        return list(map(self.parse, keys))"
   ]
  },
  {
   "cell_type": "code",
   "execution_count": 3,
   "id": "07cc9a24-eb23-451a-aae4-7fd4b7c0685a",
   "metadata": {},
   "outputs": [],
   "source": [
    "morph = Morph('data')"
   ]
  },
  {
   "cell_type": "code",
   "execution_count": 4,
   "id": "0d453ded-543f-429b-8781-6f642937a05f",
   "metadata": {},
   "outputs": [
    {
     "data": {
      "text/plain": [
       "[('надёжность',\n",
       "  'NOUN,inan,femn @ sing,accs',\n",
       "  'надёжность',\n",
       "  'NOUN,inan,femn @ sing,nomn',\n",
       "  103),\n",
       " ('надёжность',\n",
       "  'NOUN,inan,femn @ sing,nomn',\n",
       "  'надёжность',\n",
       "  'NOUN,inan,femn @ sing,nomn',\n",
       "  103)]"
      ]
     },
     "execution_count": 4,
     "metadata": {},
     "output_type": "execute_result"
    }
   ],
   "source": [
    "morph.search('надёжность')"
   ]
  },
  {
   "cell_type": "code",
   "execution_count": 5,
   "id": "efd2de6e-371b-4c47-9296-4245a0ac5f2d",
   "metadata": {},
   "outputs": [
    {
     "data": {
      "text/plain": [
       "['надёжность,2474,0,9,2490,0,11485,103',\n",
       " 'надёжность,2490,0,9,2490,0,11485,103']"
      ]
     },
     "execution_count": 5,
     "metadata": {},
     "output_type": "execute_result"
    }
   ],
   "source": [
    "morph.dwg.similar_items('надёжность')"
   ]
  },
  {
   "cell_type": "code",
   "execution_count": 10,
   "id": "833e84eb-4b00-4d50-83b7-6b1e412b2b0b",
   "metadata": {},
   "outputs": [
    {
     "data": {
      "text/html": [
       "<div>\n",
       "<style scoped>\n",
       "    .dataframe tbody tr th:only-of-type {\n",
       "        vertical-align: middle;\n",
       "    }\n",
       "\n",
       "    .dataframe tbody tr th {\n",
       "        vertical-align: top;\n",
       "    }\n",
       "\n",
       "    .dataframe thead th {\n",
       "        text-align: right;\n",
       "    }\n",
       "</style>\n",
       "<table border=\"1\" class=\"dataframe\">\n",
       "  <thead>\n",
       "    <tr style=\"text-align: right;\">\n",
       "      <th></th>\n",
       "      <th>word</th>\n",
       "      <th>tag</th>\n",
       "      <th>norm</th>\n",
       "      <th>tag_norm</th>\n",
       "      <th>cnt</th>\n",
       "    </tr>\n",
       "  </thead>\n",
       "  <tbody>\n",
       "    <tr>\n",
       "      <th>0</th>\n",
       "      <td>озёра</td>\n",
       "      <td>NOUN,inan,neut @ plur,accs</td>\n",
       "      <td>озеро</td>\n",
       "      <td>NOUN,inan,neut @ sing,nomn</td>\n",
       "      <td>110</td>\n",
       "    </tr>\n",
       "    <tr>\n",
       "      <th>1</th>\n",
       "      <td>озёра</td>\n",
       "      <td>NOUN,inan,neut @ plur,nomn</td>\n",
       "      <td>озеро</td>\n",
       "      <td>NOUN,inan,neut @ sing,nomn</td>\n",
       "      <td>110</td>\n",
       "    </tr>\n",
       "    <tr>\n",
       "      <th>2</th>\n",
       "      <td>озера</td>\n",
       "      <td>NOUN,inan,neut @ sing,gent</td>\n",
       "      <td>озеро</td>\n",
       "      <td>NOUN,inan,neut @ sing,nomn</td>\n",
       "      <td>110</td>\n",
       "    </tr>\n",
       "  </tbody>\n",
       "</table>\n",
       "</div>"
      ],
      "text/plain": [
       "    word                         tag   norm                    tag_norm  cnt\n",
       "0  озёра  NOUN,inan,neut @ plur,accs  озеро  NOUN,inan,neut @ sing,nomn  110\n",
       "1  озёра  NOUN,inan,neut @ plur,nomn  озеро  NOUN,inan,neut @ sing,nomn  110\n",
       "2  озера  NOUN,inan,neut @ sing,gent  озеро  NOUN,inan,neut @ sing,nomn  110"
      ]
     },
     "execution_count": 10,
     "metadata": {},
     "output_type": "execute_result"
    }
   ],
   "source": [
    "cols = ['word','tag','norm','tag_norm','cnt']\n",
    "pd.DataFrame(morph.search('озера'), columns=cols)"
   ]
  },
  {
   "cell_type": "code",
   "execution_count": 27,
   "id": "29d3f181-ade9-4e3d-96e4-62b07504e6f0",
   "metadata": {},
   "outputs": [
    {
     "data": {
      "text/html": [
       "<div>\n",
       "<style scoped>\n",
       "    .dataframe tbody tr th:only-of-type {\n",
       "        vertical-align: middle;\n",
       "    }\n",
       "\n",
       "    .dataframe tbody tr th {\n",
       "        vertical-align: top;\n",
       "    }\n",
       "\n",
       "    .dataframe thead th {\n",
       "        text-align: right;\n",
       "    }\n",
       "</style>\n",
       "<table border=\"1\" class=\"dataframe\">\n",
       "  <thead>\n",
       "    <tr style=\"text-align: right;\">\n",
       "      <th></th>\n",
       "      <th>word</th>\n",
       "      <th>tag</th>\n",
       "      <th>norm</th>\n",
       "      <th>tag_norm</th>\n",
       "      <th>cnt</th>\n",
       "    </tr>\n",
       "  </thead>\n",
       "  <tbody>\n",
       "    <tr>\n",
       "      <th>0</th>\n",
       "      <td>осёл</td>\n",
       "      <td>NOUN,anim,masc @ sing,nomn</td>\n",
       "      <td>осёл</td>\n",
       "      <td>NOUN,anim,masc @ sing,nomn</td>\n",
       "      <td>16</td>\n",
       "    </tr>\n",
       "    <tr>\n",
       "      <th>1</th>\n",
       "      <td>осел</td>\n",
       "      <td>VERB,perf,intr @ masc,sing,past,indc</td>\n",
       "      <td>осесть</td>\n",
       "      <td>INFN,perf,intr @</td>\n",
       "      <td>5</td>\n",
       "    </tr>\n",
       "  </tbody>\n",
       "</table>\n",
       "</div>"
      ],
      "text/plain": [
       "   word                                   tag    norm  \\\n",
       "0  осёл            NOUN,anim,masc @ sing,nomn    осёл   \n",
       "1  осел  VERB,perf,intr @ masc,sing,past,indc  осесть   \n",
       "\n",
       "                     tag_norm  cnt  \n",
       "0  NOUN,anim,masc @ sing,nomn   16  \n",
       "1           INFN,perf,intr @     5  "
      ]
     },
     "execution_count": 27,
     "metadata": {},
     "output_type": "execute_result"
    }
   ],
   "source": [
    "pd.DataFrame(morph.search('осел'), columns=cols)"
   ]
  },
  {
   "cell_type": "code",
   "execution_count": 30,
   "id": "5eac5d41-9db4-4919-9532-73219bd9aed9",
   "metadata": {},
   "outputs": [
    {
     "data": {
      "text/html": [
       "<div>\n",
       "<style scoped>\n",
       "    .dataframe tbody tr th:only-of-type {\n",
       "        vertical-align: middle;\n",
       "    }\n",
       "\n",
       "    .dataframe tbody tr th {\n",
       "        vertical-align: top;\n",
       "    }\n",
       "\n",
       "    .dataframe thead th {\n",
       "        text-align: right;\n",
       "    }\n",
       "</style>\n",
       "<table border=\"1\" class=\"dataframe\">\n",
       "  <thead>\n",
       "    <tr style=\"text-align: right;\">\n",
       "      <th></th>\n",
       "      <th>word</th>\n",
       "      <th>tag</th>\n",
       "      <th>norm</th>\n",
       "      <th>tag_norm</th>\n",
       "      <th>cnt</th>\n",
       "    </tr>\n",
       "  </thead>\n",
       "  <tbody>\n",
       "    <tr>\n",
       "      <th>0</th>\n",
       "      <td>валерия</td>\n",
       "      <td>NOUN,anim,femn,Name @ sing,nomn</td>\n",
       "      <td>валерия</td>\n",
       "      <td>NOUN,anim,femn,Name @ sing,nomn</td>\n",
       "      <td>31</td>\n",
       "    </tr>\n",
       "    <tr>\n",
       "      <th>1</th>\n",
       "      <td>валерия</td>\n",
       "      <td>NOUN,anim,masc,Name @ sing,accs</td>\n",
       "      <td>валерий</td>\n",
       "      <td>NOUN,anim,masc,Name @ sing,nomn</td>\n",
       "      <td>69</td>\n",
       "    </tr>\n",
       "    <tr>\n",
       "      <th>2</th>\n",
       "      <td>валерия</td>\n",
       "      <td>NOUN,anim,masc,Name @ sing,gent</td>\n",
       "      <td>валерий</td>\n",
       "      <td>NOUN,anim,masc,Name @ sing,nomn</td>\n",
       "      <td>69</td>\n",
       "    </tr>\n",
       "  </tbody>\n",
       "</table>\n",
       "</div>"
      ],
      "text/plain": [
       "      word                              tag     norm  \\\n",
       "0  валерия  NOUN,anim,femn,Name @ sing,nomn  валерия   \n",
       "1  валерия  NOUN,anim,masc,Name @ sing,accs  валерий   \n",
       "2  валерия  NOUN,anim,masc,Name @ sing,gent  валерий   \n",
       "\n",
       "                          tag_norm  cnt  \n",
       "0  NOUN,anim,femn,Name @ sing,nomn   31  \n",
       "1  NOUN,anim,masc,Name @ sing,nomn   69  \n",
       "2  NOUN,anim,masc,Name @ sing,nomn   69  "
      ]
     },
     "execution_count": 30,
     "metadata": {},
     "output_type": "execute_result"
    }
   ],
   "source": [
    "pd.DataFrame(morph.search('валерия'), columns=cols)"
   ]
  },
  {
   "cell_type": "code",
   "execution_count": 29,
   "id": "341c0a26-5629-4f2b-a2dc-a8f51ca0b598",
   "metadata": {},
   "outputs": [
    {
     "data": {
      "text/html": [
       "<div>\n",
       "<style scoped>\n",
       "    .dataframe tbody tr th:only-of-type {\n",
       "        vertical-align: middle;\n",
       "    }\n",
       "\n",
       "    .dataframe tbody tr th {\n",
       "        vertical-align: top;\n",
       "    }\n",
       "\n",
       "    .dataframe thead th {\n",
       "        text-align: right;\n",
       "    }\n",
       "</style>\n",
       "<table border=\"1\" class=\"dataframe\">\n",
       "  <thead>\n",
       "    <tr style=\"text-align: right;\">\n",
       "      <th></th>\n",
       "      <th>word</th>\n",
       "      <th>tag</th>\n",
       "      <th>norm</th>\n",
       "      <th>tag_norm</th>\n",
       "      <th>cnt</th>\n",
       "    </tr>\n",
       "  </thead>\n",
       "  <tbody>\n",
       "    <tr>\n",
       "      <th>0</th>\n",
       "      <td>валерии</td>\n",
       "      <td>NOUN,anim,femn,Name @ plur,nomn</td>\n",
       "      <td>валерия</td>\n",
       "      <td>NOUN,anim,femn,Name @ sing,nomn</td>\n",
       "      <td>31</td>\n",
       "    </tr>\n",
       "    <tr>\n",
       "      <th>1</th>\n",
       "      <td>валерии</td>\n",
       "      <td>NOUN,anim,femn,Name @ sing,datv</td>\n",
       "      <td>валерия</td>\n",
       "      <td>NOUN,anim,femn,Name @ sing,nomn</td>\n",
       "      <td>31</td>\n",
       "    </tr>\n",
       "    <tr>\n",
       "      <th>2</th>\n",
       "      <td>валерии</td>\n",
       "      <td>NOUN,anim,femn,Name @ sing,gent</td>\n",
       "      <td>валерия</td>\n",
       "      <td>NOUN,anim,femn,Name @ sing,nomn</td>\n",
       "      <td>31</td>\n",
       "    </tr>\n",
       "    <tr>\n",
       "      <th>3</th>\n",
       "      <td>валерии</td>\n",
       "      <td>NOUN,anim,femn,Name @ sing,loct</td>\n",
       "      <td>валерия</td>\n",
       "      <td>NOUN,anim,femn,Name @ sing,nomn</td>\n",
       "      <td>31</td>\n",
       "    </tr>\n",
       "    <tr>\n",
       "      <th>4</th>\n",
       "      <td>валерии</td>\n",
       "      <td>NOUN,anim,masc,Name @ plur,nomn</td>\n",
       "      <td>валерий</td>\n",
       "      <td>NOUN,anim,masc,Name @ sing,nomn</td>\n",
       "      <td>69</td>\n",
       "    </tr>\n",
       "    <tr>\n",
       "      <th>5</th>\n",
       "      <td>валерии</td>\n",
       "      <td>NOUN,anim,masc,Name @ sing,loct</td>\n",
       "      <td>валерий</td>\n",
       "      <td>NOUN,anim,masc,Name @ sing,nomn</td>\n",
       "      <td>69</td>\n",
       "    </tr>\n",
       "  </tbody>\n",
       "</table>\n",
       "</div>"
      ],
      "text/plain": [
       "      word                              tag     norm  \\\n",
       "0  валерии  NOUN,anim,femn,Name @ plur,nomn  валерия   \n",
       "1  валерии  NOUN,anim,femn,Name @ sing,datv  валерия   \n",
       "2  валерии  NOUN,anim,femn,Name @ sing,gent  валерия   \n",
       "3  валерии  NOUN,anim,femn,Name @ sing,loct  валерия   \n",
       "4  валерии  NOUN,anim,masc,Name @ plur,nomn  валерий   \n",
       "5  валерии  NOUN,anim,masc,Name @ sing,loct  валерий   \n",
       "\n",
       "                          tag_norm  cnt  \n",
       "0  NOUN,anim,femn,Name @ sing,nomn   31  \n",
       "1  NOUN,anim,femn,Name @ sing,nomn   31  \n",
       "2  NOUN,anim,femn,Name @ sing,nomn   31  \n",
       "3  NOUN,anim,femn,Name @ sing,nomn   31  \n",
       "4  NOUN,anim,masc,Name @ sing,nomn   69  \n",
       "5  NOUN,anim,masc,Name @ sing,nomn   69  "
      ]
     },
     "execution_count": 29,
     "metadata": {},
     "output_type": "execute_result"
    }
   ],
   "source": [
    "pd.DataFrame(morph.search('валерии'), columns=cols)"
   ]
  },
  {
   "cell_type": "code",
   "execution_count": 19,
   "id": "8de7a080-2924-4bd8-aa46-3951d4db2f0b",
   "metadata": {},
   "outputs": [
    {
     "name": "stdout",
     "output_type": "stream",
     "text": [
      "CPU times: user 1.11 s, sys: 2.76 ms, total: 1.11 s\n",
      "Wall time: 1.11 s\n"
     ]
    }
   ],
   "source": [
    "%%time\n",
    "for _ in range(140000):\n",
    "    morph.search('надёжность')\n",
    "    # morph.dwg.similar_items('надёжность')"
   ]
  },
  {
   "cell_type": "code",
   "execution_count": 9,
   "id": "d0d89179-7b1a-4d4c-afae-9bf60344604a",
   "metadata": {},
   "outputs": [
    {
     "name": "stdout",
     "output_type": "stream",
     "text": [
      "508M\tdata/annot.opcorpora.xml\n",
      "402M\tdata/dict.opcorpora.xml\n",
      "8,0K\tdata/prefixes.txt\n",
      "1,9M\tdata/replaces.bin\n",
      "172K\tdata/suffixes.txt\n",
      "220K\tdata/tags.txt\n",
      "28M\tdata/words.dawg\n"
     ]
    }
   ],
   "source": [
    "!du -h data/*"
   ]
  }
 ],
 "metadata": {
  "kernelspec": {
   "display_name": "dawg_env",
   "language": "python",
   "name": "dawg_env"
  },
  "language_info": {
   "codemirror_mode": {
    "name": "ipython",
    "version": 3
   },
   "file_extension": ".py",
   "mimetype": "text/x-python",
   "name": "python",
   "nbconvert_exporter": "python",
   "pygments_lexer": "ipython3",
   "version": "3.10.12"
  }
 },
 "nbformat": 4,
 "nbformat_minor": 5
}
