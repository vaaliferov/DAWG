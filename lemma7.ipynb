{
 "cells": [
  {
   "cell_type": "code",
   "execution_count": 1,
   "id": "020ea61a-e226-48a9-a37d-3cd7aa94a073",
   "metadata": {},
   "outputs": [],
   "source": [
    "import sys\n",
    "import dawg\n",
    "import numpy as np\n",
    "import pandas as pd\n",
    "from tqdm import tqdm\n",
    "\n",
    "from utils import load_lines\n",
    "from utils import dump_lines\n",
    "\n",
    "from utils import load_pickle\n",
    "from utils import dump_pickle\n",
    "\n",
    "from parse import parse_dict"
   ]
  },
  {
   "cell_type": "code",
   "execution_count": 2,
   "id": "93a0b310-9491-4b2a-bae3-160cec17e251",
   "metadata": {},
   "outputs": [
    {
     "name": "stdout",
     "output_type": "stream",
     "text": [
      "CPU times: user 1min 21s, sys: 1.37 s, total: 1min 23s\n",
      "Wall time: 1min 23s\n"
     ]
    }
   ],
   "source": [
    "%time data, cols = parse_dict('data/dict.opcorpora.xml')"
   ]
  },
  {
   "cell_type": "code",
   "execution_count": 3,
   "id": "cc5696fb-2fc4-48d2-b828-ef96c7429a9c",
   "metadata": {},
   "outputs": [],
   "source": [
    "df_types = pd.DataFrame(data['types'], columns=cols['types'])\n",
    "df_links = pd.DataFrame(data['links'], columns=cols['links'])\n",
    "df_lemmas = pd.DataFrame(data['lemmas'], columns=cols['lemmas'])\n",
    "df_grammemes = pd.DataFrame(data['grammemes'], columns=cols['grammemes'])"
   ]
  },
  {
   "cell_type": "code",
   "execution_count": 4,
   "id": "1c2df21f-9e47-4b82-bf5c-197ca3dcabde",
   "metadata": {},
   "outputs": [],
   "source": [
    "df_lemmas['tag'] = df_lemmas['tag'] + ' @ ' + df_lemmas['form']\n",
    "df_lemmas = df_lemmas.drop(columns='form')"
   ]
  },
  {
   "cell_type": "code",
   "execution_count": 6,
   "id": "7eed3206-992f-4934-99e1-32787e2ca061",
   "metadata": {},
   "outputs": [
    {
     "data": {
      "text/html": [
       "<div>\n",
       "<style scoped>\n",
       "    .dataframe tbody tr th:only-of-type {\n",
       "        vertical-align: middle;\n",
       "    }\n",
       "\n",
       "    .dataframe tbody tr th {\n",
       "        vertical-align: top;\n",
       "    }\n",
       "\n",
       "    .dataframe thead th {\n",
       "        text-align: right;\n",
       "    }\n",
       "</style>\n",
       "<table border=\"1\" class=\"dataframe\">\n",
       "  <thead>\n",
       "    <tr style=\"text-align: right;\">\n",
       "      <th></th>\n",
       "      <th>id</th>\n",
       "      <th>type</th>\n",
       "    </tr>\n",
       "  </thead>\n",
       "  <tbody>\n",
       "    <tr>\n",
       "      <th>0</th>\n",
       "      <td>1</td>\n",
       "      <td>ADJF-ADJS</td>\n",
       "    </tr>\n",
       "    <tr>\n",
       "      <th>1</th>\n",
       "      <td>2</td>\n",
       "      <td>ADJF-COMP</td>\n",
       "    </tr>\n",
       "    <tr>\n",
       "      <th>2</th>\n",
       "      <td>3</td>\n",
       "      <td>INFN-VERB</td>\n",
       "    </tr>\n",
       "    <tr>\n",
       "      <th>3</th>\n",
       "      <td>4</td>\n",
       "      <td>INFN-PRTF</td>\n",
       "    </tr>\n",
       "    <tr>\n",
       "      <th>4</th>\n",
       "      <td>5</td>\n",
       "      <td>INFN-GRND</td>\n",
       "    </tr>\n",
       "  </tbody>\n",
       "</table>\n",
       "</div>"
      ],
      "text/plain": [
       "  id       type\n",
       "0  1  ADJF-ADJS\n",
       "1  2  ADJF-COMP\n",
       "2  3  INFN-VERB\n",
       "3  4  INFN-PRTF\n",
       "4  5  INFN-GRND"
      ]
     },
     "execution_count": 6,
     "metadata": {},
     "output_type": "execute_result"
    }
   ],
   "source": [
    "df_types.head()"
   ]
  },
  {
   "cell_type": "code",
   "execution_count": 7,
   "id": "995f2056-09c9-449f-a22d-8e215723a631",
   "metadata": {},
   "outputs": [
    {
     "data": {
      "text/html": [
       "<div>\n",
       "<style scoped>\n",
       "    .dataframe tbody tr th:only-of-type {\n",
       "        vertical-align: middle;\n",
       "    }\n",
       "\n",
       "    .dataframe tbody tr th {\n",
       "        vertical-align: top;\n",
       "    }\n",
       "\n",
       "    .dataframe thead th {\n",
       "        text-align: right;\n",
       "    }\n",
       "</style>\n",
       "<table border=\"1\" class=\"dataframe\">\n",
       "  <thead>\n",
       "    <tr style=\"text-align: right;\">\n",
       "      <th></th>\n",
       "      <th>id</th>\n",
       "      <th>type</th>\n",
       "    </tr>\n",
       "  </thead>\n",
       "  <tbody>\n",
       "    <tr>\n",
       "      <th>0</th>\n",
       "      <td>1</td>\n",
       "      <td>ADJF-ADJS</td>\n",
       "    </tr>\n",
       "    <tr>\n",
       "      <th>1</th>\n",
       "      <td>2</td>\n",
       "      <td>ADJF-COMP</td>\n",
       "    </tr>\n",
       "    <tr>\n",
       "      <th>2</th>\n",
       "      <td>3</td>\n",
       "      <td>INFN-VERB</td>\n",
       "    </tr>\n",
       "    <tr>\n",
       "      <th>3</th>\n",
       "      <td>4</td>\n",
       "      <td>INFN-PRTF</td>\n",
       "    </tr>\n",
       "    <tr>\n",
       "      <th>4</th>\n",
       "      <td>5</td>\n",
       "      <td>INFN-GRND</td>\n",
       "    </tr>\n",
       "  </tbody>\n",
       "</table>\n",
       "</div>"
      ],
      "text/plain": [
       "  id       type\n",
       "0  1  ADJF-ADJS\n",
       "1  2  ADJF-COMP\n",
       "2  3  INFN-VERB\n",
       "3  4  INFN-PRTF\n",
       "4  5  INFN-GRND"
      ]
     },
     "execution_count": 7,
     "metadata": {},
     "output_type": "execute_result"
    }
   ],
   "source": [
    "df_types.head()"
   ]
  },
  {
   "cell_type": "code",
   "execution_count": 8,
   "id": "a2a295c3-8774-4ad6-9292-a6453c0bbc3b",
   "metadata": {},
   "outputs": [
    {
     "data": {
      "text/html": [
       "<div>\n",
       "<style scoped>\n",
       "    .dataframe tbody tr th:only-of-type {\n",
       "        vertical-align: middle;\n",
       "    }\n",
       "\n",
       "    .dataframe tbody tr th {\n",
       "        vertical-align: top;\n",
       "    }\n",
       "\n",
       "    .dataframe thead th {\n",
       "        text-align: right;\n",
       "    }\n",
       "</style>\n",
       "<table border=\"1\" class=\"dataframe\">\n",
       "  <thead>\n",
       "    <tr style=\"text-align: right;\">\n",
       "      <th></th>\n",
       "      <th>name</th>\n",
       "      <th>alias</th>\n",
       "      <th>parent</th>\n",
       "      <th>description</th>\n",
       "    </tr>\n",
       "  </thead>\n",
       "  <tbody>\n",
       "    <tr>\n",
       "      <th>0</th>\n",
       "      <td>POST</td>\n",
       "      <td>ЧР</td>\n",
       "      <td></td>\n",
       "      <td>часть речи</td>\n",
       "    </tr>\n",
       "    <tr>\n",
       "      <th>1</th>\n",
       "      <td>NOUN</td>\n",
       "      <td>СУЩ</td>\n",
       "      <td>POST</td>\n",
       "      <td>имя существительное</td>\n",
       "    </tr>\n",
       "    <tr>\n",
       "      <th>2</th>\n",
       "      <td>ADJF</td>\n",
       "      <td>ПРИЛ</td>\n",
       "      <td>POST</td>\n",
       "      <td>имя прилагательное (полное)</td>\n",
       "    </tr>\n",
       "    <tr>\n",
       "      <th>3</th>\n",
       "      <td>ADJS</td>\n",
       "      <td>КР_ПРИЛ</td>\n",
       "      <td>POST</td>\n",
       "      <td>имя прилагательное (краткое)</td>\n",
       "    </tr>\n",
       "    <tr>\n",
       "      <th>4</th>\n",
       "      <td>COMP</td>\n",
       "      <td>КОМП</td>\n",
       "      <td>POST</td>\n",
       "      <td>компаратив</td>\n",
       "    </tr>\n",
       "  </tbody>\n",
       "</table>\n",
       "</div>"
      ],
      "text/plain": [
       "   name    alias parent                   description\n",
       "0  POST       ЧР                           часть речи\n",
       "1  NOUN      СУЩ   POST           имя существительное\n",
       "2  ADJF     ПРИЛ   POST   имя прилагательное (полное)\n",
       "3  ADJS  КР_ПРИЛ   POST  имя прилагательное (краткое)\n",
       "4  COMP     КОМП   POST                    компаратив"
      ]
     },
     "execution_count": 8,
     "metadata": {},
     "output_type": "execute_result"
    }
   ],
   "source": [
    "df_grammemes.head()"
   ]
  },
  {
   "cell_type": "code",
   "execution_count": 9,
   "id": "6226a060-ef8c-46c2-9ab2-684a09569ecd",
   "metadata": {},
   "outputs": [
    {
     "data": {
      "text/html": [
       "<div>\n",
       "<style scoped>\n",
       "    .dataframe tbody tr th:only-of-type {\n",
       "        vertical-align: middle;\n",
       "    }\n",
       "\n",
       "    .dataframe tbody tr th {\n",
       "        vertical-align: top;\n",
       "    }\n",
       "\n",
       "    .dataframe thead th {\n",
       "        text-align: right;\n",
       "    }\n",
       "</style>\n",
       "<table border=\"1\" class=\"dataframe\">\n",
       "  <thead>\n",
       "    <tr style=\"text-align: right;\">\n",
       "      <th></th>\n",
       "      <th>id</th>\n",
       "      <th>tag</th>\n",
       "      <th>word</th>\n",
       "    </tr>\n",
       "  </thead>\n",
       "  <tbody>\n",
       "    <tr>\n",
       "      <th>0</th>\n",
       "      <td>1</td>\n",
       "      <td>NOUN,anim,masc @ sing,nomn</td>\n",
       "      <td>ёж</td>\n",
       "    </tr>\n",
       "    <tr>\n",
       "      <th>1</th>\n",
       "      <td>1</td>\n",
       "      <td>NOUN,anim,masc @ sing,gent</td>\n",
       "      <td>ежа</td>\n",
       "    </tr>\n",
       "    <tr>\n",
       "      <th>2</th>\n",
       "      <td>1</td>\n",
       "      <td>NOUN,anim,masc @ sing,datv</td>\n",
       "      <td>ежу</td>\n",
       "    </tr>\n",
       "    <tr>\n",
       "      <th>3</th>\n",
       "      <td>1</td>\n",
       "      <td>NOUN,anim,masc @ sing,accs</td>\n",
       "      <td>ежа</td>\n",
       "    </tr>\n",
       "    <tr>\n",
       "      <th>4</th>\n",
       "      <td>1</td>\n",
       "      <td>NOUN,anim,masc @ sing,ablt</td>\n",
       "      <td>ежом</td>\n",
       "    </tr>\n",
       "  </tbody>\n",
       "</table>\n",
       "</div>"
      ],
      "text/plain": [
       "   id                         tag  word\n",
       "0   1  NOUN,anim,masc @ sing,nomn    ёж\n",
       "1   1  NOUN,anim,masc @ sing,gent   ежа\n",
       "2   1  NOUN,anim,masc @ sing,datv   ежу\n",
       "3   1  NOUN,anim,masc @ sing,accs   ежа\n",
       "4   1  NOUN,anim,masc @ sing,ablt  ежом"
      ]
     },
     "execution_count": 9,
     "metadata": {},
     "output_type": "execute_result"
    }
   ],
   "source": [
    "df_lemmas.head()"
   ]
  },
  {
   "cell_type": "code",
   "execution_count": 40,
   "id": "9c6e1148-5214-4c94-9eae-5d7a972fb196",
   "metadata": {},
   "outputs": [],
   "source": [
    "# VERB,PRTF,PRTS,GRND -> INFN\n",
    "# ADJS,COMP,ADVB -> ADJF sing masc nomn\n",
    "# NOUN -> NOUN sing masc/femn/neut nomn\n",
    "# Прочие части речи: всего одна начальная форма\n",
    "\n",
    "# NOUN(СУЩ), ADJF(ПРИЛ), ADJS(КР_ПРИЛ), COMP(КОМП), \n",
    "# VERB(ГЛ), INFN(ИНФ), PRTF(ПРИЧ), PRTS(КР_ПРИЧ), \n",
    "# GRND(ДЕЕПР), NUMR(ЧИСЛ), ADVB(Н), NPRO(МС), \n",
    "# PRED(ПРЕДК), PREP(ПР), CONJ(СОЮЗ), PRCL(ЧАСТ), INTJ(МЕЖД)\n",
    "\n",
    "def get_norm_score(tag):\n",
    "\n",
    "    score = 0\n",
    "\n",
    "    if ('NOUN' in tag or \n",
    "        'INFN' in tag or\n",
    "        'ADJF' in tag): score += 10\n",
    "\n",
    "    if 'Qual' in tag: score += 1\n",
    "    if 'masc' in tag: score += 2\n",
    "    if 'femn' in tag: score += 1\n",
    "    if 'sing' in tag: score += 2\n",
    "    if 'nomn' in tag: score += 2\n",
    "    if 'impf' in tag: score += 1\n",
    "    if 'V-ie' in tag: score -= 1\n",
    "    if 'V-be' in tag: score -= 1\n",
    "    if 'Supr' in tag: score -= 1\n",
    "    if 'Infr' in tag: score -= 1\n",
    "    if 'V-sh' in tag: score -= 1\n",
    "    if 'Erro' in tag: score -= 1\n",
    "    if 'Slng' in tag: score -= 1\n",
    "    if 'Litr' in tag: score -= 1\n",
    "    if 'Dist' in tag: score -= 1\n",
    "    \n",
    "    return score\n",
    "\n",
    "df_lemmas['norm_score'] = df_lemmas['tag'].apply(get_norm_score)"
   ]
  },
  {
   "cell_type": "code",
   "execution_count": 42,
   "id": "14158c2f-a3d2-4d42-8f65-9b2e51b4c008",
   "metadata": {},
   "outputs": [],
   "source": [
    "def get_idx(sets, id):\n",
    "    for i in range(len(sets)):\n",
    "        if id in sets[i]:\n",
    "            return i\n",
    "\n",
    "def add_link(sets, from_id, to_id, \n",
    "             type, excluded_types):\n",
    "\n",
    "    if type not in excluded_types:\n",
    "            \n",
    "        to_idx = get_idx(sets, to_id)\n",
    "        from_idx = get_idx(sets, from_id)\n",
    "\n",
    "        if to_idx == from_idx == None:\n",
    "            sets.append({from_id, to_id})\n",
    "\n",
    "        elif to_idx != None and from_idx == None:\n",
    "            sets[to_idx].add(from_id)\n",
    "\n",
    "        elif from_idx != None and to_idx == None:\n",
    "            sets[from_idx].add(to_id)\n",
    "\n",
    "        elif to_idx != from_idx:\n",
    "            to = sets[to_idx]\n",
    "            sets[from_idx].update(to)\n",
    "            del sets[to_idx]"
   ]
  },
  {
   "cell_type": "code",
   "execution_count": 43,
   "id": "328bd380-b2f6-4837-8893-44aac4413c66",
   "metadata": {},
   "outputs": [
    {
     "name": "stderr",
     "output_type": "stream",
     "text": [
      "100%|████████████████████████████████████████████████████████████████████████████████| 258650/258650 [29:57<00:00, 143.90it/s]"
     ]
    },
    {
     "name": "stdout",
     "output_type": "stream",
     "text": [
      "CPU times: user 29min 52s, sys: 2.1 s, total: 29min 54s\n",
      "Wall time: 29min 57s\n"
     ]
    },
    {
     "name": "stderr",
     "output_type": "stream",
     "text": [
      "\n"
     ]
    }
   ],
   "source": [
    "%%time\n",
    "\n",
    "sets = []\n",
    "excluded = {7, 21, 23, 27}\n",
    "\n",
    "for link in tqdm(links, mininterval=1):\n",
    "    add_link(sets, link[1], link[2], link[3], excluded)"
   ]
  },
  {
   "cell_type": "code",
   "execution_count": 44,
   "id": "629f3557-96f9-4e48-b659-f3eda52a2143",
   "metadata": {},
   "outputs": [],
   "source": [
    "dump_pickle(sets, 'data/links.bin')\n",
    "sets = load_pickle('data/links.bin')"
   ]
  },
  {
   "cell_type": "code",
   "execution_count": 45,
   "id": "ee81891d-a8e1-47e1-9c9d-52ab4753682d",
   "metadata": {},
   "outputs": [
    {
     "name": "stderr",
     "output_type": "stream",
     "text": [
      "100%|███████████████████████████████████████████████████████████████████████████████| 66195/66195 [00:00<00:00, 400032.21it/s]\n"
     ]
    }
   ],
   "source": [
    "repl = dict()\n",
    "\n",
    "for ids in tqdm(sets):\n",
    "    ids = sorted(list(ids))\n",
    "    repl.update({ids[i]: ids[0] for i in range(1, len(ids))})\n",
    "\n",
    "df_lemmas['id'] = df_lemmas['id'].map(repl).fillna(df_lemmas['id']).astype('uint32')"
   ]
  },
  {
   "cell_type": "code",
   "execution_count": 46,
   "id": "032532df-61b9-400f-8e9b-e8de5bcb0998",
   "metadata": {},
   "outputs": [],
   "source": [
    "df_lemmas['norm_idx'] = df_lemmas.groupby('id')['norm_score'].transform(lambda x: x.idxmax())"
   ]
  },
  {
   "cell_type": "code",
   "execution_count": 47,
   "id": "b18ffe7f-0555-4f03-98f4-f935af94ee07",
   "metadata": {},
   "outputs": [
    {
     "name": "stderr",
     "output_type": "stream",
     "text": [
      "100%|████████████████████████████████████████████████████████████████████████████████| 183259/183259 [04:00<00:00, 762.14it/s]\n"
     ]
    }
   ],
   "source": [
    "def longest_common_substring(data):\n",
    "\n",
    "    if len(data) == 1:\n",
    "        return data[0]\n",
    "    if not data or len(data[0]) == 0:\n",
    "        return ''\n",
    "    substr = ''\n",
    "    for i in range(len(data[0])):\n",
    "        for j in range(len(data[0])-i+1):\n",
    "            if j > len(substr) and all(data[0][i:i+j] in x for x in data):\n",
    "                substr = data[0][i:i+j]\n",
    "    return substr\n",
    "\n",
    "def split(group):\n",
    "    \n",
    "    forms = group['word'].tolist()\n",
    "    stem = longest_common_substring(forms)\n",
    "    prefixes = [form[:form.index(stem)] for form in forms]\n",
    "    \n",
    "    suffixes = [\n",
    "        form[len(pref)+len(stem):]\n",
    "        for form, pref in zip(forms, prefixes)\n",
    "    ]\n",
    "\n",
    "    offsets = [len(pref) for pref in prefixes]\n",
    "    \n",
    "    group['prefix'] = prefixes\n",
    "    group['suffix'] = suffixes\n",
    "    \n",
    "    group['stem_offset'] = offsets\n",
    "    group['stem_length'] = len(stem)\n",
    "    \n",
    "    return group\n",
    "\n",
    "tqdm.pandas()\n",
    "df_lemmas = df_lemmas.groupby('id', group_keys=False).progress_apply(split)\n",
    "df_lemmas = df_lemmas.reset_index(drop=True)"
   ]
  },
  {
   "cell_type": "code",
   "execution_count": 48,
   "id": "b2e2af82-3efe-4a91-bdc2-385adb069490",
   "metadata": {},
   "outputs": [],
   "source": [
    "df_lemmas['tag'] = df_lemmas['tag'].astype('category')\n",
    "df_lemmas['prefix'] = df_lemmas['prefix'].astype('category')\n",
    "df_lemmas['suffix'] = df_lemmas['suffix'].astype('category')"
   ]
  },
  {
   "cell_type": "code",
   "execution_count": 49,
   "id": "c81180f5-b9b5-43b8-b0f7-88d8ab043698",
   "metadata": {},
   "outputs": [],
   "source": [
    "params = {\n",
    "    'right_index': True, \n",
    "    'left_on': 'norm_idx', \n",
    "    'suffixes': ('', '_norm')\n",
    "}\n",
    "cols = ['prefix', 'suffix', 'tag']\n",
    "df_lemmas = pd.merge(df_lemmas, df_lemmas[cols], **params)"
   ]
  },
  {
   "cell_type": "code",
   "execution_count": 50,
   "id": "2bfdd899-2277-43b2-8676-3b68142e292f",
   "metadata": {},
   "outputs": [
    {
     "data": {
      "text/html": [
       "<div>\n",
       "<style scoped>\n",
       "    .dataframe tbody tr th:only-of-type {\n",
       "        vertical-align: middle;\n",
       "    }\n",
       "\n",
       "    .dataframe tbody tr th {\n",
       "        vertical-align: top;\n",
       "    }\n",
       "\n",
       "    .dataframe thead th {\n",
       "        text-align: right;\n",
       "    }\n",
       "</style>\n",
       "<table border=\"1\" class=\"dataframe\">\n",
       "  <thead>\n",
       "    <tr style=\"text-align: right;\">\n",
       "      <th></th>\n",
       "      <th>id</th>\n",
       "      <th>tag</th>\n",
       "      <th>word</th>\n",
       "      <th>norm_score</th>\n",
       "      <th>norm_idx</th>\n",
       "      <th>prefix</th>\n",
       "      <th>suffix</th>\n",
       "      <th>stem_offset</th>\n",
       "      <th>stem_length</th>\n",
       "      <th>prefix_norm</th>\n",
       "      <th>suffix_norm</th>\n",
       "      <th>tag_norm</th>\n",
       "    </tr>\n",
       "  </thead>\n",
       "  <tbody>\n",
       "    <tr>\n",
       "      <th>0</th>\n",
       "      <td>1</td>\n",
       "      <td>NOUN,anim,masc @ sing,nomn</td>\n",
       "      <td>ёж</td>\n",
       "      <td>16</td>\n",
       "      <td>0</td>\n",
       "      <td>ё</td>\n",
       "      <td></td>\n",
       "      <td>1</td>\n",
       "      <td>1</td>\n",
       "      <td>ё</td>\n",
       "      <td></td>\n",
       "      <td>NOUN,anim,masc @ sing,nomn</td>\n",
       "    </tr>\n",
       "    <tr>\n",
       "      <th>1</th>\n",
       "      <td>1</td>\n",
       "      <td>NOUN,anim,masc @ sing,gent</td>\n",
       "      <td>ежа</td>\n",
       "      <td>14</td>\n",
       "      <td>0</td>\n",
       "      <td>е</td>\n",
       "      <td>а</td>\n",
       "      <td>1</td>\n",
       "      <td>1</td>\n",
       "      <td>ё</td>\n",
       "      <td></td>\n",
       "      <td>NOUN,anim,masc @ sing,nomn</td>\n",
       "    </tr>\n",
       "    <tr>\n",
       "      <th>2</th>\n",
       "      <td>1</td>\n",
       "      <td>NOUN,anim,masc @ sing,datv</td>\n",
       "      <td>ежу</td>\n",
       "      <td>14</td>\n",
       "      <td>0</td>\n",
       "      <td>е</td>\n",
       "      <td>у</td>\n",
       "      <td>1</td>\n",
       "      <td>1</td>\n",
       "      <td>ё</td>\n",
       "      <td></td>\n",
       "      <td>NOUN,anim,masc @ sing,nomn</td>\n",
       "    </tr>\n",
       "    <tr>\n",
       "      <th>3</th>\n",
       "      <td>1</td>\n",
       "      <td>NOUN,anim,masc @ sing,accs</td>\n",
       "      <td>ежа</td>\n",
       "      <td>14</td>\n",
       "      <td>0</td>\n",
       "      <td>е</td>\n",
       "      <td>а</td>\n",
       "      <td>1</td>\n",
       "      <td>1</td>\n",
       "      <td>ё</td>\n",
       "      <td></td>\n",
       "      <td>NOUN,anim,masc @ sing,nomn</td>\n",
       "    </tr>\n",
       "    <tr>\n",
       "      <th>4</th>\n",
       "      <td>1</td>\n",
       "      <td>NOUN,anim,masc @ sing,ablt</td>\n",
       "      <td>ежом</td>\n",
       "      <td>14</td>\n",
       "      <td>0</td>\n",
       "      <td>е</td>\n",
       "      <td>ом</td>\n",
       "      <td>1</td>\n",
       "      <td>1</td>\n",
       "      <td>ё</td>\n",
       "      <td></td>\n",
       "      <td>NOUN,anim,masc @ sing,nomn</td>\n",
       "    </tr>\n",
       "  </tbody>\n",
       "</table>\n",
       "</div>"
      ],
      "text/plain": [
       "   id                         tag  word  norm_score  norm_idx prefix suffix  \\\n",
       "0   1  NOUN,anim,masc @ sing,nomn    ёж          16         0      ё          \n",
       "1   1  NOUN,anim,masc @ sing,gent   ежа          14         0      е      а   \n",
       "2   1  NOUN,anim,masc @ sing,datv   ежу          14         0      е      у   \n",
       "3   1  NOUN,anim,masc @ sing,accs   ежа          14         0      е      а   \n",
       "4   1  NOUN,anim,masc @ sing,ablt  ежом          14         0      е     ом   \n",
       "\n",
       "   stem_offset  stem_length prefix_norm suffix_norm  \\\n",
       "0            1            1           ё               \n",
       "1            1            1           ё               \n",
       "2            1            1           ё               \n",
       "3            1            1           ё               \n",
       "4            1            1           ё               \n",
       "\n",
       "                     tag_norm  \n",
       "0  NOUN,anim,masc @ sing,nomn  \n",
       "1  NOUN,anim,masc @ sing,nomn  \n",
       "2  NOUN,anim,masc @ sing,nomn  \n",
       "3  NOUN,anim,masc @ sing,nomn  \n",
       "4  NOUN,anim,masc @ sing,nomn  "
      ]
     },
     "execution_count": 50,
     "metadata": {},
     "output_type": "execute_result"
    }
   ],
   "source": [
    "df_lemmas.head()"
   ]
  },
  {
   "cell_type": "code",
   "execution_count": 51,
   "id": "5f15a530-370d-4882-9fbe-fc9749d19aae",
   "metadata": {},
   "outputs": [],
   "source": [
    "def save_categories(series, path):\n",
    "    dump_lines(series.cat.categories.tolist(), path)\n",
    "\n",
    "save_categories(df_lemmas['tag'], 'data/tags.txt')\n",
    "save_categories(df_lemmas['prefix'], 'data/prefixes.txt')\n",
    "save_categories(df_lemmas['suffix'], 'data/suffixes.txt')"
   ]
  },
  {
   "cell_type": "code",
   "execution_count": 54,
   "id": "73d3f96b-9f0d-4cd0-a0e7-e0609ab7eab1",
   "metadata": {},
   "outputs": [],
   "source": [
    "df_links.reset_index(drop=True).to_feather('data/links.ftr')\n",
    "df_types.reset_index(drop=True).to_feather('data/types.ftr')\n",
    "df_lemmas.reset_index(drop=True).to_feather('data/lemmas.ftr')\n",
    "df_grammemes.reset_index(drop=True).to_feather('data/grammemes.ftr')"
   ]
  },
  {
   "cell_type": "code",
   "execution_count": 55,
   "id": "39fd019e-099e-4c0a-bb91-618fce791226",
   "metadata": {},
   "outputs": [],
   "source": [
    "keys = df_lemmas['word'].copy()\n",
    "\n",
    "keys += ',' + df_lemmas['tag'].cat.codes.astype(str)\n",
    "keys += ',' + df_lemmas['stem_offset'].astype(str)\n",
    "keys += ',' + df_lemmas['stem_length'].astype(str)\n",
    "\n",
    "keys += ',' + df_lemmas['tag_norm'].cat.codes.astype(str)\n",
    "keys += ',' + df_lemmas['prefix_norm'].cat.codes.astype(str)\n",
    "keys += ',' + df_lemmas['suffix_norm'].cat.codes.astype(str)"
   ]
  },
  {
   "cell_type": "code",
   "execution_count": 60,
   "id": "ce6df209-d28d-4583-bdd8-b66c2e498ea6",
   "metadata": {},
   "outputs": [],
   "source": [
    "params = {\n",
    "    'sep': ',',\n",
    "    'keys': keys.tolist(),\n",
    "    'replaces': {'е':'ё'}\n",
    "}\n",
    "\n",
    "dwg = dawg.DAWG(**params)\n",
    "dwg.save('data/words.dawg')"
   ]
  },
  {
   "cell_type": "code",
   "execution_count": 1,
   "id": "e7350416-c11d-4f11-a40c-955043ada9b8",
   "metadata": {},
   "outputs": [],
   "source": [
    "import dawg\n",
    "import pandas as pd"
   ]
  },
  {
   "cell_type": "code",
   "execution_count": 2,
   "id": "a200d43f-6505-45bd-8aa7-7f5afbe43c05",
   "metadata": {},
   "outputs": [],
   "source": [
    "def load_lines(path):\n",
    "    with open(path) as fd:\n",
    "        return fd.read().splitlines()"
   ]
  },
  {
   "cell_type": "code",
   "execution_count": 3,
   "id": "f0ac69ca-42ee-4a44-a969-add3e29f3cfe",
   "metadata": {},
   "outputs": [],
   "source": [
    "class MyMorphy:\n",
    "\n",
    "    def __init__(self):\n",
    "\n",
    "        params = {\n",
    "            'sep': ',',\n",
    "            'replaces': {'е':'ё'},\n",
    "            'path': 'data/words.dawg'\n",
    "        }\n",
    "        \n",
    "        self.dwg = dawg.DAWG(**params)\n",
    "        self.tags = load_lines('data/tags.txt')\n",
    "        self.prefixes = load_lines('data/prefixes.txt')\n",
    "        self.suffixes = load_lines('data/suffixes.txt')\n",
    "\n",
    "    def parse(self, key):\n",
    "\n",
    "        values = key.split(',')\n",
    "    \n",
    "        word = values[0]\n",
    "        tag = self.tags[int(values[1])]\n",
    "        stem_offset = int(values[2])\n",
    "        stem_length = int(values[3])\n",
    "    \n",
    "        norm_tag = self.tags[int(values[4])]\n",
    "        norm_prefix = self.prefixes[int(values[5])]\n",
    "        norm_suffix = self.suffixes[int(values[6])]\n",
    "    \n",
    "        stem = word[stem_offset:stem_offset+stem_length]\n",
    "        norm_word = norm_prefix + stem + norm_suffix\n",
    "    \n",
    "        return word, tag, norm_word, norm_tag\n",
    "\n",
    "    def search(self, word):\n",
    "        keys = self.dwg.similar_items(word)\n",
    "        return list(map(self.parse, keys))"
   ]
  },
  {
   "cell_type": "code",
   "execution_count": 4,
   "id": "52114edd-50c1-4550-82d6-cd862b063300",
   "metadata": {},
   "outputs": [],
   "source": [
    "morph = MyMorphy()"
   ]
  },
  {
   "cell_type": "code",
   "execution_count": 5,
   "id": "d87a336d-42fb-4d53-a424-9eaa64951410",
   "metadata": {},
   "outputs": [
    {
     "data": {
      "text/plain": [
       "[('надёжность',\n",
       "  'NOUN,inan,femn @ sing,accs',\n",
       "  'надёжность',\n",
       "  'NOUN,inan,femn @ sing,nomn'),\n",
       " ('надёжность',\n",
       "  'NOUN,inan,femn @ sing,nomn',\n",
       "  'надёжность',\n",
       "  'NOUN,inan,femn @ sing,nomn')]"
      ]
     },
     "execution_count": 5,
     "metadata": {},
     "output_type": "execute_result"
    }
   ],
   "source": [
    "morph.search('надёжность')"
   ]
  },
  {
   "cell_type": "code",
   "execution_count": 6,
   "id": "9a7d391b-0d59-435a-925b-be98105f51ce",
   "metadata": {},
   "outputs": [
    {
     "data": {
      "text/plain": [
       "['надёжность,2474,0,9,2490,0,11485', 'надёжность,2490,0,9,2490,0,11485']"
      ]
     },
     "execution_count": 6,
     "metadata": {},
     "output_type": "execute_result"
    }
   ],
   "source": [
    "morph.dwg.similar_items('надёжность')"
   ]
  },
  {
   "cell_type": "code",
   "execution_count": 7,
   "id": "74f0bbc5-3bd5-4694-b6ff-88e9bc2998ce",
   "metadata": {},
   "outputs": [
    {
     "data": {
      "text/html": [
       "<div>\n",
       "<style scoped>\n",
       "    .dataframe tbody tr th:only-of-type {\n",
       "        vertical-align: middle;\n",
       "    }\n",
       "\n",
       "    .dataframe tbody tr th {\n",
       "        vertical-align: top;\n",
       "    }\n",
       "\n",
       "    .dataframe thead th {\n",
       "        text-align: right;\n",
       "    }\n",
       "</style>\n",
       "<table border=\"1\" class=\"dataframe\">\n",
       "  <thead>\n",
       "    <tr style=\"text-align: right;\">\n",
       "      <th></th>\n",
       "      <th>word</th>\n",
       "      <th>tag</th>\n",
       "      <th>word_norm</th>\n",
       "      <th>tag_norm</th>\n",
       "    </tr>\n",
       "  </thead>\n",
       "  <tbody>\n",
       "    <tr>\n",
       "      <th>0</th>\n",
       "      <td>озёра</td>\n",
       "      <td>NOUN,inan,neut @ plur,accs</td>\n",
       "      <td>озеро</td>\n",
       "      <td>NOUN,inan,neut @ sing,nomn</td>\n",
       "    </tr>\n",
       "    <tr>\n",
       "      <th>1</th>\n",
       "      <td>озёра</td>\n",
       "      <td>NOUN,inan,neut @ plur,nomn</td>\n",
       "      <td>озеро</td>\n",
       "      <td>NOUN,inan,neut @ sing,nomn</td>\n",
       "    </tr>\n",
       "    <tr>\n",
       "      <th>2</th>\n",
       "      <td>озера</td>\n",
       "      <td>NOUN,inan,neut @ sing,gent</td>\n",
       "      <td>озеро</td>\n",
       "      <td>NOUN,inan,neut @ sing,nomn</td>\n",
       "    </tr>\n",
       "  </tbody>\n",
       "</table>\n",
       "</div>"
      ],
      "text/plain": [
       "    word                         tag word_norm                    tag_norm\n",
       "0  озёра  NOUN,inan,neut @ plur,accs     озеро  NOUN,inan,neut @ sing,nomn\n",
       "1  озёра  NOUN,inan,neut @ plur,nomn     озеро  NOUN,inan,neut @ sing,nomn\n",
       "2  озера  NOUN,inan,neut @ sing,gent     озеро  NOUN,inan,neut @ sing,nomn"
      ]
     },
     "execution_count": 7,
     "metadata": {},
     "output_type": "execute_result"
    }
   ],
   "source": [
    "cols = ['word', 'tag', 'word_norm', 'tag_norm']\n",
    "pd.DataFrame(morph.search('озера'), columns=cols)"
   ]
  },
  {
   "cell_type": "code",
   "execution_count": 8,
   "id": "ccc4fd38-1c94-452b-be0f-334ff96401ff",
   "metadata": {},
   "outputs": [
    {
     "name": "stdout",
     "output_type": "stream",
     "text": [
      "CPU times: user 1.03 s, sys: 592 µs, total: 1.03 s\n",
      "Wall time: 1.04 s\n"
     ]
    }
   ],
   "source": [
    "%%time\n",
    "for _ in range(140000):\n",
    "    morph.search('надёжность')"
   ]
  },
  {
   "cell_type": "code",
   "execution_count": 9,
   "id": "86a0bb01-54f4-4e59-8182-e360fa53b620",
   "metadata": {},
   "outputs": [
    {
     "name": "stdout",
     "output_type": "stream",
     "text": [
      "402M\tdata/dict.opcorpora.xml\n",
      "8,0K\tdata/grammemes.ftr\n",
      "55M\tdata/lemmas.ftr\n",
      "1,5M\tdata/links.bin\n",
      "2,8M\tdata/links.ftr\n",
      "8,0K\tdata/prefixes.txt\n",
      "172K\tdata/suffixes.txt\n",
      "220K\tdata/tags.txt\n",
      "4,0K\tdata/types.ftr\n",
      "11M\tdata/words.dawg\n"
     ]
    }
   ],
   "source": [
    "!du -h data/*"
   ]
  }
 ],
 "metadata": {
  "kernelspec": {
   "display_name": "dawg_env",
   "language": "python",
   "name": "dawg_env"
  },
  "language_info": {
   "codemirror_mode": {
    "name": "ipython",
    "version": 3
   },
   "file_extension": ".py",
   "mimetype": "text/x-python",
   "name": "python",
   "nbconvert_exporter": "python",
   "pygments_lexer": "ipython3",
   "version": "3.10.12"
  }
 },
 "nbformat": 4,
 "nbformat_minor": 5
}
